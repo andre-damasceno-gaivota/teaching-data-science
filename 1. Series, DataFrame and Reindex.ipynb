{
 "cells": [
  {
   "cell_type": "markdown",
   "id": "e17893ad",
   "metadata": {},
   "source": [
    "## <font color=green> Series"
   ]
  },
  {
   "cell_type": "code",
   "execution_count": 38,
   "id": "f2c85443",
   "metadata": {},
   "outputs": [],
   "source": [
    "import pandas as pd"
   ]
  },
  {
   "cell_type": "markdown",
   "id": "f99b330c",
   "metadata": {},
   "source": [
    "- Series são objetos unidimensionais contendo dados e labels (ou index)\n",
    "- Formas de criação de Series"
   ]
  },
  {
   "cell_type": "code",
   "execution_count": 39,
   "id": "cc2b20ce",
   "metadata": {},
   "outputs": [
    {
     "data": {
      "text/plain": [
       "0    a\n",
       "1    b\n",
       "2    c\n",
       "3    d\n",
       "4    e\n",
       "5    f\n",
       "dtype: object"
      ]
     },
     "execution_count": 39,
     "metadata": {},
     "output_type": "execute_result"
    }
   ],
   "source": [
    "s = pd.Series(list('abcdef'))\n",
    "s"
   ]
  },
  {
   "cell_type": "code",
   "execution_count": 40,
   "id": "dabc6a54",
   "metadata": {},
   "outputs": [
    {
     "data": {
      "text/plain": [
       "0    2\n",
       "1    4\n",
       "2    6\n",
       "3    8\n",
       "dtype: int64"
      ]
     },
     "execution_count": 40,
     "metadata": {},
     "output_type": "execute_result"
    }
   ],
   "source": [
    "s = pd.Series([2, 4, 6, 8])\n",
    "s"
   ]
  },
  {
   "cell_type": "markdown",
   "id": "1f156f93",
   "metadata": {},
   "source": [
    "- O index pode ser especificado"
   ]
  },
  {
   "cell_type": "code",
   "execution_count": 41,
   "id": "f5b469ee",
   "metadata": {},
   "outputs": [
    {
     "data": {
      "text/plain": [
       "f    2\n",
       "a    4\n",
       "c    6\n",
       "e    8\n",
       "dtype: int64"
      ]
     },
     "execution_count": 41,
     "metadata": {},
     "output_type": "execute_result"
    }
   ],
   "source": [
    "s = pd.Series([2, 4, 6, 8], index = ['f', 'a', 'c', 'e'])\n",
    "s"
   ]
  },
  {
   "cell_type": "markdown",
   "id": "d2578907",
   "metadata": {},
   "source": [
    "- O valor pode ser selecionado pelo seu index"
   ]
  },
  {
   "cell_type": "code",
   "execution_count": 42,
   "id": "6034a84e",
   "metadata": {},
   "outputs": [
    {
     "data": {
      "text/plain": [
       "4"
      ]
     },
     "execution_count": 42,
     "metadata": {},
     "output_type": "execute_result"
    }
   ],
   "source": [
    "s['a']"
   ]
  },
  {
   "cell_type": "markdown",
   "id": "7bd13384",
   "metadata": {},
   "source": [
    "- Assim como múltiplos valores também podem ser selecionados"
   ]
  },
  {
   "cell_type": "code",
   "execution_count": 43,
   "id": "051c5045",
   "metadata": {},
   "outputs": [
    {
     "data": {
      "text/plain": [
       "a    4\n",
       "c    6\n",
       "dtype: int64"
      ]
     },
     "execution_count": 43,
     "metadata": {},
     "output_type": "execute_result"
    }
   ],
   "source": [
    "s[['a','c']]"
   ]
  },
  {
   "cell_type": "markdown",
   "id": "6d5146c0",
   "metadata": {},
   "source": [
    "- Os indices não precisam ser valores únicos"
   ]
  },
  {
   "cell_type": "code",
   "execution_count": 44,
   "id": "defd3c65",
   "metadata": {},
   "outputs": [
    {
     "data": {
      "text/plain": [
       "a    0\n",
       "b    1\n",
       "a    2\n",
       "b    3\n",
       "dtype: int64"
      ]
     },
     "execution_count": 44,
     "metadata": {},
     "output_type": "execute_result"
    }
   ],
   "source": [
    "s2 = pd.Series(range(4), index = list('abab'))\n",
    "s2"
   ]
  },
  {
   "cell_type": "code",
   "execution_count": 45,
   "id": "4052fbbe",
   "metadata": {},
   "outputs": [
    {
     "data": {
      "text/plain": [
       "a    0\n",
       "a    2\n",
       "dtype: int64"
      ]
     },
     "execution_count": 45,
     "metadata": {},
     "output_type": "execute_result"
    }
   ],
   "source": [
    "s2['a']"
   ]
  },
  {
   "cell_type": "code",
   "execution_count": 46,
   "id": "dda5ca0a",
   "metadata": {},
   "outputs": [
    {
     "data": {
      "text/plain": [
       "2"
      ]
     },
     "execution_count": 46,
     "metadata": {},
     "output_type": "execute_result"
    }
   ],
   "source": [
    "s2['a'][1]"
   ]
  },
  {
   "cell_type": "markdown",
   "id": "16979fa3",
   "metadata": {},
   "source": [
    "- Series suportam operações de filtragem"
   ]
  },
  {
   "cell_type": "code",
   "execution_count": 47,
   "id": "e434cad5",
   "metadata": {},
   "outputs": [
    {
     "data": {
      "text/plain": [
       "f    2\n",
       "a    4\n",
       "c    6\n",
       "e    8\n",
       "dtype: int64"
      ]
     },
     "execution_count": 47,
     "metadata": {},
     "output_type": "execute_result"
    }
   ],
   "source": [
    "s"
   ]
  },
  {
   "cell_type": "code",
   "execution_count": 48,
   "id": "e3d0c120",
   "metadata": {},
   "outputs": [
    {
     "data": {
      "text/plain": [
       "c    6\n",
       "e    8\n",
       "dtype: int64"
      ]
     },
     "execution_count": 48,
     "metadata": {},
     "output_type": "execute_result"
    }
   ],
   "source": [
    "s[s>4]"
   ]
  },
  {
   "cell_type": "code",
   "execution_count": 49,
   "id": "fc61953e",
   "metadata": {},
   "outputs": [
    {
     "data": {
      "text/plain": [
       "f    False\n",
       "a    False\n",
       "c     True\n",
       "e     True\n",
       "dtype: bool"
      ]
     },
     "execution_count": 49,
     "metadata": {},
     "output_type": "execute_result"
    }
   ],
   "source": [
    "s>4"
   ]
  },
  {
   "cell_type": "markdown",
   "id": "933470f6",
   "metadata": {},
   "source": [
    "- Podemos realizar também operações aritméticas\n"
   ]
  },
  {
   "cell_type": "code",
   "execution_count": 50,
   "id": "83b49e10",
   "metadata": {},
   "outputs": [
    {
     "data": {
      "text/plain": [
       "f     6\n",
       "a     8\n",
       "c    10\n",
       "e    12\n",
       "dtype: int64"
      ]
     },
     "execution_count": 50,
     "metadata": {},
     "output_type": "execute_result"
    }
   ],
   "source": [
    "s+4"
   ]
  },
  {
   "cell_type": "code",
   "execution_count": 51,
   "id": "cd0b8174",
   "metadata": {},
   "outputs": [
    {
     "data": {
      "text/plain": [
       "f     8\n",
       "a    16\n",
       "c    24\n",
       "e    32\n",
       "dtype: int64"
      ]
     },
     "execution_count": 51,
     "metadata": {},
     "output_type": "execute_result"
    }
   ],
   "source": [
    "s*4"
   ]
  },
  {
   "cell_type": "markdown",
   "id": "4ef7f131",
   "metadata": {},
   "source": [
    "- Series suportam variáveis nulas"
   ]
  },
  {
   "cell_type": "code",
   "execution_count": 52,
   "id": "6456571a",
   "metadata": {},
   "outputs": [
    {
     "data": {
      "text/plain": [
       "b    100\n",
       "c    150\n",
       "d    200\n",
       "dtype: int64"
      ]
     },
     "execution_count": 52,
     "metadata": {},
     "output_type": "execute_result"
    }
   ],
   "source": [
    "sdata = {'b': 100, 'c': 150, 'd': 200}\n",
    "s = pd.Series(sdata)\n",
    "s"
   ]
  },
  {
   "cell_type": "code",
   "execution_count": 53,
   "id": "8e655166",
   "metadata": {},
   "outputs": [
    {
     "data": {
      "text/plain": [
       "a      NaN\n",
       "b    100.0\n",
       "c    150.0\n",
       "d    200.0\n",
       "dtype: float64"
      ]
     },
     "execution_count": 53,
     "metadata": {},
     "output_type": "execute_result"
    }
   ],
   "source": [
    "s = pd.Series(sdata, list('abcd'))\n",
    "s"
   ]
  },
  {
   "cell_type": "markdown",
   "id": "ccdb7b1c",
   "metadata": {},
   "source": [
    "- É possível realizar também operações aritméticas entre duas séries"
   ]
  },
  {
   "cell_type": "code",
   "execution_count": 54,
   "id": "e3fb4156",
   "metadata": {},
   "outputs": [
    {
     "data": {
      "text/plain": [
       "c    1\n",
       "b    2\n",
       "a    3\n",
       "dtype: int64"
      ]
     },
     "execution_count": 54,
     "metadata": {},
     "output_type": "execute_result"
    }
   ],
   "source": [
    "s2 = pd.Series([1,2,3], index = ['c','b','a'])\n",
    "s2"
   ]
  },
  {
   "cell_type": "code",
   "execution_count": 55,
   "id": "758877fa",
   "metadata": {},
   "outputs": [
    {
     "data": {
      "text/plain": [
       "a      NaN\n",
       "b    200.0\n",
       "c    150.0\n",
       "d      NaN\n",
       "dtype: float64"
      ]
     },
     "execution_count": 55,
     "metadata": {},
     "output_type": "execute_result"
    }
   ],
   "source": [
    "s*s2"
   ]
  },
  {
   "cell_type": "markdown",
   "id": "9184beb2",
   "metadata": {},
   "source": [
    "## <font color=green> DataFrame"
   ]
  },
  {
   "cell_type": "markdown",
   "id": "4f9d622f",
   "metadata": {},
   "source": [
    "- DataFrames são como planilhas, uma estrutura de dados contendo uma coleção de colunas.\n",
    "- Possui linhas e colunas"
   ]
  },
  {
   "cell_type": "code",
   "execution_count": 56,
   "id": "2ba98050",
   "metadata": {},
   "outputs": [
    {
     "data": {
      "text/html": [
       "<div>\n",
       "<style scoped>\n",
       "    .dataframe tbody tr th:only-of-type {\n",
       "        vertical-align: middle;\n",
       "    }\n",
       "\n",
       "    .dataframe tbody tr th {\n",
       "        vertical-align: top;\n",
       "    }\n",
       "\n",
       "    .dataframe thead th {\n",
       "        text-align: right;\n",
       "    }\n",
       "</style>\n",
       "<table border=\"1\" class=\"dataframe\">\n",
       "  <thead>\n",
       "    <tr style=\"text-align: right;\">\n",
       "      <th></th>\n",
       "      <th>pontuação</th>\n",
       "      <th>time</th>\n",
       "      <th>ano</th>\n",
       "    </tr>\n",
       "  </thead>\n",
       "  <tbody>\n",
       "    <tr>\n",
       "      <th>0</th>\n",
       "      <td>71</td>\n",
       "      <td>Flamengo</td>\n",
       "      <td>2020</td>\n",
       "    </tr>\n",
       "    <tr>\n",
       "      <th>1</th>\n",
       "      <td>90</td>\n",
       "      <td>Flamengo</td>\n",
       "      <td>2019</td>\n",
       "    </tr>\n",
       "    <tr>\n",
       "      <th>2</th>\n",
       "      <td>80</td>\n",
       "      <td>Palmeiras</td>\n",
       "      <td>2018</td>\n",
       "    </tr>\n",
       "    <tr>\n",
       "      <th>3</th>\n",
       "      <td>72</td>\n",
       "      <td>Corinthians</td>\n",
       "      <td>2017</td>\n",
       "    </tr>\n",
       "    <tr>\n",
       "      <th>4</th>\n",
       "      <td>80</td>\n",
       "      <td>Palmeiras</td>\n",
       "      <td>2016</td>\n",
       "    </tr>\n",
       "    <tr>\n",
       "      <th>5</th>\n",
       "      <td>81</td>\n",
       "      <td>Corinthians</td>\n",
       "      <td>2015</td>\n",
       "    </tr>\n",
       "  </tbody>\n",
       "</table>\n",
       "</div>"
      ],
      "text/plain": [
       "   pontuação         time   ano\n",
       "0         71     Flamengo  2020\n",
       "1         90     Flamengo  2019\n",
       "2         80    Palmeiras  2018\n",
       "3         72  Corinthians  2017\n",
       "4         80    Palmeiras  2016\n",
       "5         81  Corinthians  2015"
      ]
     },
     "execution_count": 56,
     "metadata": {},
     "output_type": "execute_result"
    }
   ],
   "source": [
    "data = {'pontuação':[71, 90, 80, 72, 80, 81],\n",
    "        'time':['Flamengo', 'Flamengo', 'Palmeiras', 'Corinthians', 'Palmeiras', 'Corinthians'],\n",
    "        'ano':[2020, 2019, 2018, 2017, 2016, 2015]}\n",
    "frame = pd.DataFrame(data)\n",
    "frame"
   ]
  },
  {
   "cell_type": "code",
   "execution_count": 57,
   "id": "1dee30b5",
   "metadata": {},
   "outputs": [
    {
     "data": {
      "text/html": [
       "<div>\n",
       "<style scoped>\n",
       "    .dataframe tbody tr th:only-of-type {\n",
       "        vertical-align: middle;\n",
       "    }\n",
       "\n",
       "    .dataframe tbody tr th {\n",
       "        vertical-align: top;\n",
       "    }\n",
       "\n",
       "    .dataframe thead th {\n",
       "        text-align: right;\n",
       "    }\n",
       "</style>\n",
       "<table border=\"1\" class=\"dataframe\">\n",
       "  <thead>\n",
       "    <tr style=\"text-align: right;\">\n",
       "      <th></th>\n",
       "      <th>Flamengo</th>\n",
       "      <th>Palmeiras</th>\n",
       "      <th>Corinthians</th>\n",
       "    </tr>\n",
       "  </thead>\n",
       "  <tbody>\n",
       "    <tr>\n",
       "      <th>2020</th>\n",
       "      <td>71.0</td>\n",
       "      <td>NaN</td>\n",
       "      <td>NaN</td>\n",
       "    </tr>\n",
       "    <tr>\n",
       "      <th>2019</th>\n",
       "      <td>90.0</td>\n",
       "      <td>NaN</td>\n",
       "      <td>NaN</td>\n",
       "    </tr>\n",
       "    <tr>\n",
       "      <th>2018</th>\n",
       "      <td>NaN</td>\n",
       "      <td>80.0</td>\n",
       "      <td>NaN</td>\n",
       "    </tr>\n",
       "    <tr>\n",
       "      <th>2016</th>\n",
       "      <td>NaN</td>\n",
       "      <td>80.0</td>\n",
       "      <td>NaN</td>\n",
       "    </tr>\n",
       "    <tr>\n",
       "      <th>2017</th>\n",
       "      <td>NaN</td>\n",
       "      <td>NaN</td>\n",
       "      <td>72.0</td>\n",
       "    </tr>\n",
       "    <tr>\n",
       "      <th>2015</th>\n",
       "      <td>NaN</td>\n",
       "      <td>NaN</td>\n",
       "      <td>81.0</td>\n",
       "    </tr>\n",
       "  </tbody>\n",
       "</table>\n",
       "</div>"
      ],
      "text/plain": [
       "      Flamengo  Palmeiras  Corinthians\n",
       "2020      71.0        NaN          NaN\n",
       "2019      90.0        NaN          NaN\n",
       "2018       NaN       80.0          NaN\n",
       "2016       NaN       80.0          NaN\n",
       "2017       NaN        NaN         72.0\n",
       "2015       NaN        NaN         81.0"
      ]
     },
     "execution_count": 57,
     "metadata": {},
     "output_type": "execute_result"
    }
   ],
   "source": [
    "pop_data = {'Flamengo': {2020:71, 2019:90},\n",
    "        'Palmeiras': {2018:80, 2016:80},\n",
    "        'Corinthians': {2017:72, 2015:81}}\n",
    "pop = pd.DataFrame(pop_data)\n",
    "pop"
   ]
  },
  {
   "cell_type": "markdown",
   "id": "9b5c093f",
   "metadata": {},
   "source": [
    "- As colunas podem ser retornadas como uma série"
   ]
  },
  {
   "cell_type": "code",
   "execution_count": 58,
   "id": "e2ebce59",
   "metadata": {},
   "outputs": [
    {
     "data": {
      "text/plain": [
       "0       Flamengo\n",
       "1       Flamengo\n",
       "2      Palmeiras\n",
       "3    Corinthians\n",
       "4      Palmeiras\n",
       "5    Corinthians\n",
       "Name: time, dtype: object"
      ]
     },
     "execution_count": 58,
     "metadata": {},
     "output_type": "execute_result"
    }
   ],
   "source": [
    "frame['time']"
   ]
  },
  {
   "cell_type": "markdown",
   "id": "8757ae31",
   "metadata": {},
   "source": [
    "- O atributo values retorna os dados contidos no DataFrame como um array bidimensional"
   ]
  },
  {
   "cell_type": "code",
   "execution_count": 59,
   "id": "258f7e25",
   "metadata": {},
   "outputs": [
    {
     "data": {
      "text/plain": [
       "array([[71., nan, nan],\n",
       "       [90., nan, nan],\n",
       "       [nan, 80., nan],\n",
       "       [nan, 80., nan],\n",
       "       [nan, nan, 72.],\n",
       "       [nan, nan, 81.]])"
      ]
     },
     "execution_count": 59,
     "metadata": {},
     "output_type": "execute_result"
    }
   ],
   "source": [
    "pop.values"
   ]
  },
  {
   "cell_type": "code",
   "execution_count": 60,
   "id": "7003bfde",
   "metadata": {},
   "outputs": [
    {
     "data": {
      "text/plain": [
       "array([71., 90., nan, nan, nan, nan])"
      ]
     },
     "execution_count": 60,
     "metadata": {},
     "output_type": "execute_result"
    }
   ],
   "source": [
    "pop['Flamengo'].values"
   ]
  },
  {
   "cell_type": "markdown",
   "id": "69e126bc",
   "metadata": {},
   "source": [
    "- Novas colunas podem ser adicionadas (por cálculo aritmético ou atribuição direta)"
   ]
  },
  {
   "cell_type": "code",
   "execution_count": 61,
   "id": "0c04426c",
   "metadata": {},
   "outputs": [],
   "source": [
    "import numpy as np"
   ]
  },
  {
   "cell_type": "code",
   "execution_count": 62,
   "id": "fe816acb",
   "metadata": {},
   "outputs": [
    {
     "data": {
      "text/html": [
       "<div>\n",
       "<style scoped>\n",
       "    .dataframe tbody tr th:only-of-type {\n",
       "        vertical-align: middle;\n",
       "    }\n",
       "\n",
       "    .dataframe tbody tr th {\n",
       "        vertical-align: top;\n",
       "    }\n",
       "\n",
       "    .dataframe thead th {\n",
       "        text-align: right;\n",
       "    }\n",
       "</style>\n",
       "<table border=\"1\" class=\"dataframe\">\n",
       "  <thead>\n",
       "    <tr style=\"text-align: right;\">\n",
       "      <th></th>\n",
       "      <th>pontuação</th>\n",
       "      <th>time</th>\n",
       "      <th>ano</th>\n",
       "      <th>nova coluna</th>\n",
       "    </tr>\n",
       "  </thead>\n",
       "  <tbody>\n",
       "    <tr>\n",
       "      <th>0</th>\n",
       "      <td>71</td>\n",
       "      <td>Flamengo</td>\n",
       "      <td>2020</td>\n",
       "      <td>NaN</td>\n",
       "    </tr>\n",
       "    <tr>\n",
       "      <th>1</th>\n",
       "      <td>90</td>\n",
       "      <td>Flamengo</td>\n",
       "      <td>2019</td>\n",
       "      <td>NaN</td>\n",
       "    </tr>\n",
       "    <tr>\n",
       "      <th>2</th>\n",
       "      <td>80</td>\n",
       "      <td>Palmeiras</td>\n",
       "      <td>2018</td>\n",
       "      <td>NaN</td>\n",
       "    </tr>\n",
       "    <tr>\n",
       "      <th>3</th>\n",
       "      <td>72</td>\n",
       "      <td>Corinthians</td>\n",
       "      <td>2017</td>\n",
       "      <td>NaN</td>\n",
       "    </tr>\n",
       "    <tr>\n",
       "      <th>4</th>\n",
       "      <td>80</td>\n",
       "      <td>Palmeiras</td>\n",
       "      <td>2016</td>\n",
       "      <td>NaN</td>\n",
       "    </tr>\n",
       "    <tr>\n",
       "      <th>5</th>\n",
       "      <td>81</td>\n",
       "      <td>Corinthians</td>\n",
       "      <td>2015</td>\n",
       "      <td>NaN</td>\n",
       "    </tr>\n",
       "  </tbody>\n",
       "</table>\n",
       "</div>"
      ],
      "text/plain": [
       "   pontuação         time   ano  nova coluna\n",
       "0         71     Flamengo  2020          NaN\n",
       "1         90     Flamengo  2019          NaN\n",
       "2         80    Palmeiras  2018          NaN\n",
       "3         72  Corinthians  2017          NaN\n",
       "4         80    Palmeiras  2016          NaN\n",
       "5         81  Corinthians  2015          NaN"
      ]
     },
     "execution_count": 62,
     "metadata": {},
     "output_type": "execute_result"
    }
   ],
   "source": [
    "frame['nova coluna'] = np.NaN\n",
    "frame"
   ]
  },
  {
   "cell_type": "code",
   "execution_count": 63,
   "id": "0f6036f7",
   "metadata": {},
   "outputs": [
    {
     "data": {
      "text/html": [
       "<div>\n",
       "<style scoped>\n",
       "    .dataframe tbody tr th:only-of-type {\n",
       "        vertical-align: middle;\n",
       "    }\n",
       "\n",
       "    .dataframe tbody tr th {\n",
       "        vertical-align: top;\n",
       "    }\n",
       "\n",
       "    .dataframe thead th {\n",
       "        text-align: right;\n",
       "    }\n",
       "</style>\n",
       "<table border=\"1\" class=\"dataframe\">\n",
       "  <thead>\n",
       "    <tr style=\"text-align: right;\">\n",
       "      <th></th>\n",
       "      <th>pontuação</th>\n",
       "      <th>time</th>\n",
       "      <th>ano</th>\n",
       "      <th>nova coluna</th>\n",
       "      <th>processada</th>\n",
       "    </tr>\n",
       "  </thead>\n",
       "  <tbody>\n",
       "    <tr>\n",
       "      <th>0</th>\n",
       "      <td>71</td>\n",
       "      <td>Flamengo</td>\n",
       "      <td>2020</td>\n",
       "      <td>NaN</td>\n",
       "      <td>142</td>\n",
       "    </tr>\n",
       "    <tr>\n",
       "      <th>1</th>\n",
       "      <td>90</td>\n",
       "      <td>Flamengo</td>\n",
       "      <td>2019</td>\n",
       "      <td>NaN</td>\n",
       "      <td>180</td>\n",
       "    </tr>\n",
       "    <tr>\n",
       "      <th>2</th>\n",
       "      <td>80</td>\n",
       "      <td>Palmeiras</td>\n",
       "      <td>2018</td>\n",
       "      <td>NaN</td>\n",
       "      <td>160</td>\n",
       "    </tr>\n",
       "    <tr>\n",
       "      <th>3</th>\n",
       "      <td>72</td>\n",
       "      <td>Corinthians</td>\n",
       "      <td>2017</td>\n",
       "      <td>NaN</td>\n",
       "      <td>144</td>\n",
       "    </tr>\n",
       "    <tr>\n",
       "      <th>4</th>\n",
       "      <td>80</td>\n",
       "      <td>Palmeiras</td>\n",
       "      <td>2016</td>\n",
       "      <td>NaN</td>\n",
       "      <td>160</td>\n",
       "    </tr>\n",
       "    <tr>\n",
       "      <th>5</th>\n",
       "      <td>81</td>\n",
       "      <td>Corinthians</td>\n",
       "      <td>2015</td>\n",
       "      <td>NaN</td>\n",
       "      <td>162</td>\n",
       "    </tr>\n",
       "  </tbody>\n",
       "</table>\n",
       "</div>"
      ],
      "text/plain": [
       "   pontuação         time   ano  nova coluna  processada\n",
       "0         71     Flamengo  2020          NaN         142\n",
       "1         90     Flamengo  2019          NaN         180\n",
       "2         80    Palmeiras  2018          NaN         160\n",
       "3         72  Corinthians  2017          NaN         144\n",
       "4         80    Palmeiras  2016          NaN         160\n",
       "5         81  Corinthians  2015          NaN         162"
      ]
     },
     "execution_count": 63,
     "metadata": {},
     "output_type": "execute_result"
    }
   ],
   "source": [
    "frame['processada'] = frame['pontuação'] * 2\n",
    "frame"
   ]
  },
  {
   "cell_type": "markdown",
   "id": "c1283f70",
   "metadata": {},
   "source": [
    "- DataFrames permitem trocar linhas por colunas"
   ]
  },
  {
   "cell_type": "code",
   "execution_count": 64,
   "id": "01ec2d1d",
   "metadata": {},
   "outputs": [
    {
     "data": {
      "text/html": [
       "<div>\n",
       "<style scoped>\n",
       "    .dataframe tbody tr th:only-of-type {\n",
       "        vertical-align: middle;\n",
       "    }\n",
       "\n",
       "    .dataframe tbody tr th {\n",
       "        vertical-align: top;\n",
       "    }\n",
       "\n",
       "    .dataframe thead th {\n",
       "        text-align: right;\n",
       "    }\n",
       "</style>\n",
       "<table border=\"1\" class=\"dataframe\">\n",
       "  <thead>\n",
       "    <tr style=\"text-align: right;\">\n",
       "      <th></th>\n",
       "      <th>2020</th>\n",
       "      <th>2019</th>\n",
       "      <th>2018</th>\n",
       "      <th>2016</th>\n",
       "      <th>2017</th>\n",
       "      <th>2015</th>\n",
       "    </tr>\n",
       "  </thead>\n",
       "  <tbody>\n",
       "    <tr>\n",
       "      <th>Flamengo</th>\n",
       "      <td>71.0</td>\n",
       "      <td>90.0</td>\n",
       "      <td>NaN</td>\n",
       "      <td>NaN</td>\n",
       "      <td>NaN</td>\n",
       "      <td>NaN</td>\n",
       "    </tr>\n",
       "    <tr>\n",
       "      <th>Palmeiras</th>\n",
       "      <td>NaN</td>\n",
       "      <td>NaN</td>\n",
       "      <td>80.0</td>\n",
       "      <td>80.0</td>\n",
       "      <td>NaN</td>\n",
       "      <td>NaN</td>\n",
       "    </tr>\n",
       "    <tr>\n",
       "      <th>Corinthians</th>\n",
       "      <td>NaN</td>\n",
       "      <td>NaN</td>\n",
       "      <td>NaN</td>\n",
       "      <td>NaN</td>\n",
       "      <td>72.0</td>\n",
       "      <td>81.0</td>\n",
       "    </tr>\n",
       "  </tbody>\n",
       "</table>\n",
       "</div>"
      ],
      "text/plain": [
       "             2020  2019  2018  2016  2017  2015\n",
       "Flamengo     71.0  90.0   NaN   NaN   NaN   NaN\n",
       "Palmeiras     NaN   NaN  80.0  80.0   NaN   NaN\n",
       "Corinthians   NaN   NaN   NaN   NaN  72.0  81.0"
      ]
     },
     "execution_count": 64,
     "metadata": {},
     "output_type": "execute_result"
    }
   ],
   "source": [
    "pop.T"
   ]
  },
  {
   "cell_type": "markdown",
   "id": "0f3b499e",
   "metadata": {},
   "source": [
    "- DataFrame tem suporte a funções descritivas e estatísticas"
   ]
  },
  {
   "cell_type": "code",
   "execution_count": 65,
   "id": "48f59d95",
   "metadata": {},
   "outputs": [
    {
     "data": {
      "text/html": [
       "<div>\n",
       "<style scoped>\n",
       "    .dataframe tbody tr th:only-of-type {\n",
       "        vertical-align: middle;\n",
       "    }\n",
       "\n",
       "    .dataframe tbody tr th {\n",
       "        vertical-align: top;\n",
       "    }\n",
       "\n",
       "    .dataframe thead th {\n",
       "        text-align: right;\n",
       "    }\n",
       "</style>\n",
       "<table border=\"1\" class=\"dataframe\">\n",
       "  <thead>\n",
       "    <tr style=\"text-align: right;\">\n",
       "      <th></th>\n",
       "      <th>Flamengo</th>\n",
       "      <th>Palmeiras</th>\n",
       "      <th>Corinthians</th>\n",
       "    </tr>\n",
       "  </thead>\n",
       "  <tbody>\n",
       "    <tr>\n",
       "      <th>2020</th>\n",
       "      <td>71.0</td>\n",
       "      <td>NaN</td>\n",
       "      <td>NaN</td>\n",
       "    </tr>\n",
       "    <tr>\n",
       "      <th>2019</th>\n",
       "      <td>90.0</td>\n",
       "      <td>NaN</td>\n",
       "      <td>NaN</td>\n",
       "    </tr>\n",
       "    <tr>\n",
       "      <th>2018</th>\n",
       "      <td>NaN</td>\n",
       "      <td>80.0</td>\n",
       "      <td>NaN</td>\n",
       "    </tr>\n",
       "    <tr>\n",
       "      <th>2016</th>\n",
       "      <td>NaN</td>\n",
       "      <td>80.0</td>\n",
       "      <td>NaN</td>\n",
       "    </tr>\n",
       "    <tr>\n",
       "      <th>2017</th>\n",
       "      <td>NaN</td>\n",
       "      <td>NaN</td>\n",
       "      <td>72.0</td>\n",
       "    </tr>\n",
       "    <tr>\n",
       "      <th>2015</th>\n",
       "      <td>NaN</td>\n",
       "      <td>NaN</td>\n",
       "      <td>81.0</td>\n",
       "    </tr>\n",
       "  </tbody>\n",
       "</table>\n",
       "</div>"
      ],
      "text/plain": [
       "      Flamengo  Palmeiras  Corinthians\n",
       "2020      71.0        NaN          NaN\n",
       "2019      90.0        NaN          NaN\n",
       "2018       NaN       80.0          NaN\n",
       "2016       NaN       80.0          NaN\n",
       "2017       NaN        NaN         72.0\n",
       "2015       NaN        NaN         81.0"
      ]
     },
     "execution_count": 65,
     "metadata": {},
     "output_type": "execute_result"
    }
   ],
   "source": [
    "pop"
   ]
  },
  {
   "cell_type": "markdown",
   "id": "6f93989b",
   "metadata": {},
   "source": [
    "- Describe gera vários dados estatísticos de resumo de uma só vez"
   ]
  },
  {
   "cell_type": "code",
   "execution_count": 66,
   "id": "4da35b28",
   "metadata": {},
   "outputs": [
    {
     "data": {
      "text/html": [
       "<div>\n",
       "<style scoped>\n",
       "    .dataframe tbody tr th:only-of-type {\n",
       "        vertical-align: middle;\n",
       "    }\n",
       "\n",
       "    .dataframe tbody tr th {\n",
       "        vertical-align: top;\n",
       "    }\n",
       "\n",
       "    .dataframe thead th {\n",
       "        text-align: right;\n",
       "    }\n",
       "</style>\n",
       "<table border=\"1\" class=\"dataframe\">\n",
       "  <thead>\n",
       "    <tr style=\"text-align: right;\">\n",
       "      <th></th>\n",
       "      <th>Flamengo</th>\n",
       "      <th>Palmeiras</th>\n",
       "      <th>Corinthians</th>\n",
       "    </tr>\n",
       "  </thead>\n",
       "  <tbody>\n",
       "    <tr>\n",
       "      <th>count</th>\n",
       "      <td>2.000000</td>\n",
       "      <td>2.0</td>\n",
       "      <td>2.000000</td>\n",
       "    </tr>\n",
       "    <tr>\n",
       "      <th>mean</th>\n",
       "      <td>80.500000</td>\n",
       "      <td>80.0</td>\n",
       "      <td>76.500000</td>\n",
       "    </tr>\n",
       "    <tr>\n",
       "      <th>std</th>\n",
       "      <td>13.435029</td>\n",
       "      <td>0.0</td>\n",
       "      <td>6.363961</td>\n",
       "    </tr>\n",
       "    <tr>\n",
       "      <th>min</th>\n",
       "      <td>71.000000</td>\n",
       "      <td>80.0</td>\n",
       "      <td>72.000000</td>\n",
       "    </tr>\n",
       "    <tr>\n",
       "      <th>25%</th>\n",
       "      <td>75.750000</td>\n",
       "      <td>80.0</td>\n",
       "      <td>74.250000</td>\n",
       "    </tr>\n",
       "    <tr>\n",
       "      <th>50%</th>\n",
       "      <td>80.500000</td>\n",
       "      <td>80.0</td>\n",
       "      <td>76.500000</td>\n",
       "    </tr>\n",
       "    <tr>\n",
       "      <th>75%</th>\n",
       "      <td>85.250000</td>\n",
       "      <td>80.0</td>\n",
       "      <td>78.750000</td>\n",
       "    </tr>\n",
       "    <tr>\n",
       "      <th>max</th>\n",
       "      <td>90.000000</td>\n",
       "      <td>80.0</td>\n",
       "      <td>81.000000</td>\n",
       "    </tr>\n",
       "  </tbody>\n",
       "</table>\n",
       "</div>"
      ],
      "text/plain": [
       "        Flamengo  Palmeiras  Corinthians\n",
       "count   2.000000        2.0     2.000000\n",
       "mean   80.500000       80.0    76.500000\n",
       "std    13.435029        0.0     6.363961\n",
       "min    71.000000       80.0    72.000000\n",
       "25%    75.750000       80.0    74.250000\n",
       "50%    80.500000       80.0    76.500000\n",
       "75%    85.250000       80.0    78.750000\n",
       "max    90.000000       80.0    81.000000"
      ]
     },
     "execution_count": 66,
     "metadata": {},
     "output_type": "execute_result"
    }
   ],
   "source": [
    "pop.describe()"
   ]
  },
  {
   "cell_type": "markdown",
   "id": "9b56fa3d",
   "metadata": {},
   "source": [
    "- Chamar o método sum de DataFrame devolve uma Series contendo as soma das colunas"
   ]
  },
  {
   "cell_type": "code",
   "execution_count": 67,
   "id": "caa82032",
   "metadata": {},
   "outputs": [
    {
     "data": {
      "text/plain": [
       "Flamengo       161.0\n",
       "Palmeiras      160.0\n",
       "Corinthians    153.0\n",
       "dtype: float64"
      ]
     },
     "execution_count": 67,
     "metadata": {},
     "output_type": "execute_result"
    }
   ],
   "source": [
    "pop.sum()"
   ]
  },
  {
   "cell_type": "markdown",
   "id": "b3f576ab",
   "metadata": {},
   "source": [
    "- Passar axis='columns' faz a soma pelas colunas"
   ]
  },
  {
   "cell_type": "code",
   "execution_count": 68,
   "id": "9d4d8f44",
   "metadata": {},
   "outputs": [
    {
     "data": {
      "text/plain": [
       "2020    71.0\n",
       "2019    90.0\n",
       "2018    80.0\n",
       "2016    80.0\n",
       "2017    72.0\n",
       "2015    81.0\n",
       "dtype: float64"
      ]
     },
     "execution_count": 68,
     "metadata": {},
     "output_type": "execute_result"
    }
   ],
   "source": [
    "pop.sum(axis='columns')"
   ]
  },
  {
   "cell_type": "markdown",
   "id": "b02255ff",
   "metadata": {},
   "source": [
    "- Mean retorna a média dos valores"
   ]
  },
  {
   "cell_type": "code",
   "execution_count": 69,
   "id": "bf38fc02",
   "metadata": {},
   "outputs": [
    {
     "data": {
      "text/plain": [
       "Flamengo       80.5\n",
       "Palmeiras      80.0\n",
       "Corinthians    76.5\n",
       "dtype: float64"
      ]
     },
     "execution_count": 69,
     "metadata": {},
     "output_type": "execute_result"
    }
   ],
   "source": [
    "pop.mean()"
   ]
  },
  {
   "cell_type": "markdown",
   "id": "1aa9ec91",
   "metadata": {},
   "source": [
    "- Median retorna a mediana dos valores"
   ]
  },
  {
   "cell_type": "code",
   "execution_count": 70,
   "id": "f322ae30",
   "metadata": {},
   "outputs": [
    {
     "data": {
      "text/plain": [
       "Flamengo       80.5\n",
       "Palmeiras      80.0\n",
       "Corinthians    76.5\n",
       "dtype: float64"
      ]
     },
     "execution_count": 70,
     "metadata": {},
     "output_type": "execute_result"
    }
   ],
   "source": [
    "pop.median()"
   ]
  },
  {
   "cell_type": "markdown",
   "id": "347184fd",
   "metadata": {},
   "source": [
    "- min e max calcula os valores mínimo e máximo"
   ]
  },
  {
   "cell_type": "code",
   "execution_count": 71,
   "id": "317cbd46",
   "metadata": {},
   "outputs": [
    {
     "data": {
      "text/plain": [
       "Flamengo       71.0\n",
       "Palmeiras      80.0\n",
       "Corinthians    72.0\n",
       "dtype: float64"
      ]
     },
     "execution_count": 71,
     "metadata": {},
     "output_type": "execute_result"
    }
   ],
   "source": [
    "pop.min()"
   ]
  },
  {
   "cell_type": "code",
   "execution_count": 72,
   "id": "fad67a18",
   "metadata": {},
   "outputs": [
    {
     "data": {
      "text/plain": [
       "Flamengo       90.0\n",
       "Palmeiras      80.0\n",
       "Corinthians    81.0\n",
       "dtype: float64"
      ]
     },
     "execution_count": 72,
     "metadata": {},
     "output_type": "execute_result"
    }
   ],
   "source": [
    "pop.max()"
   ]
  },
  {
   "cell_type": "markdown",
   "id": "56a07040",
   "metadata": {},
   "source": [
    "- Pandas carrega vários tipos de dados como csv, json, xml, html, excel"
   ]
  },
  {
   "cell_type": "code",
   "execution_count": 73,
   "id": "aa6240f2",
   "metadata": {},
   "outputs": [
    {
     "data": {
      "text/html": [
       "<div>\n",
       "<style scoped>\n",
       "    .dataframe tbody tr th:only-of-type {\n",
       "        vertical-align: middle;\n",
       "    }\n",
       "\n",
       "    .dataframe tbody tr th {\n",
       "        vertical-align: top;\n",
       "    }\n",
       "\n",
       "    .dataframe thead th {\n",
       "        text-align: right;\n",
       "    }\n",
       "</style>\n",
       "<table border=\"1\" class=\"dataframe\">\n",
       "  <thead>\n",
       "    <tr style=\"text-align: right;\">\n",
       "      <th></th>\n",
       "      <th>Store</th>\n",
       "      <th>Date</th>\n",
       "      <th>Weekly_Sales</th>\n",
       "      <th>Holiday_Flag</th>\n",
       "      <th>Temperature</th>\n",
       "      <th>Fuel_Price</th>\n",
       "      <th>CPI</th>\n",
       "      <th>Unemployment</th>\n",
       "    </tr>\n",
       "  </thead>\n",
       "  <tbody>\n",
       "    <tr>\n",
       "      <th>0</th>\n",
       "      <td>1</td>\n",
       "      <td>05-02-2010</td>\n",
       "      <td>1643690.90</td>\n",
       "      <td>0</td>\n",
       "      <td>42.31</td>\n",
       "      <td>2.572</td>\n",
       "      <td>211.096358</td>\n",
       "      <td>8.106</td>\n",
       "    </tr>\n",
       "    <tr>\n",
       "      <th>1</th>\n",
       "      <td>1</td>\n",
       "      <td>12-02-2010</td>\n",
       "      <td>1641957.44</td>\n",
       "      <td>1</td>\n",
       "      <td>38.51</td>\n",
       "      <td>2.548</td>\n",
       "      <td>211.242170</td>\n",
       "      <td>8.106</td>\n",
       "    </tr>\n",
       "    <tr>\n",
       "      <th>2</th>\n",
       "      <td>1</td>\n",
       "      <td>19-02-2010</td>\n",
       "      <td>1611968.17</td>\n",
       "      <td>0</td>\n",
       "      <td>39.93</td>\n",
       "      <td>2.514</td>\n",
       "      <td>211.289143</td>\n",
       "      <td>8.106</td>\n",
       "    </tr>\n",
       "    <tr>\n",
       "      <th>3</th>\n",
       "      <td>1</td>\n",
       "      <td>26-02-2010</td>\n",
       "      <td>1409727.59</td>\n",
       "      <td>0</td>\n",
       "      <td>46.63</td>\n",
       "      <td>2.561</td>\n",
       "      <td>211.319643</td>\n",
       "      <td>8.106</td>\n",
       "    </tr>\n",
       "    <tr>\n",
       "      <th>4</th>\n",
       "      <td>1</td>\n",
       "      <td>05-03-2010</td>\n",
       "      <td>1554806.68</td>\n",
       "      <td>0</td>\n",
       "      <td>46.50</td>\n",
       "      <td>2.625</td>\n",
       "      <td>211.350143</td>\n",
       "      <td>8.106</td>\n",
       "    </tr>\n",
       "    <tr>\n",
       "      <th>...</th>\n",
       "      <td>...</td>\n",
       "      <td>...</td>\n",
       "      <td>...</td>\n",
       "      <td>...</td>\n",
       "      <td>...</td>\n",
       "      <td>...</td>\n",
       "      <td>...</td>\n",
       "      <td>...</td>\n",
       "    </tr>\n",
       "    <tr>\n",
       "      <th>6430</th>\n",
       "      <td>45</td>\n",
       "      <td>28-09-2012</td>\n",
       "      <td>713173.95</td>\n",
       "      <td>0</td>\n",
       "      <td>64.88</td>\n",
       "      <td>3.997</td>\n",
       "      <td>192.013558</td>\n",
       "      <td>8.684</td>\n",
       "    </tr>\n",
       "    <tr>\n",
       "      <th>6431</th>\n",
       "      <td>45</td>\n",
       "      <td>05-10-2012</td>\n",
       "      <td>733455.07</td>\n",
       "      <td>0</td>\n",
       "      <td>64.89</td>\n",
       "      <td>3.985</td>\n",
       "      <td>192.170412</td>\n",
       "      <td>8.667</td>\n",
       "    </tr>\n",
       "    <tr>\n",
       "      <th>6432</th>\n",
       "      <td>45</td>\n",
       "      <td>12-10-2012</td>\n",
       "      <td>734464.36</td>\n",
       "      <td>0</td>\n",
       "      <td>54.47</td>\n",
       "      <td>4.000</td>\n",
       "      <td>192.327265</td>\n",
       "      <td>8.667</td>\n",
       "    </tr>\n",
       "    <tr>\n",
       "      <th>6433</th>\n",
       "      <td>45</td>\n",
       "      <td>19-10-2012</td>\n",
       "      <td>718125.53</td>\n",
       "      <td>0</td>\n",
       "      <td>56.47</td>\n",
       "      <td>3.969</td>\n",
       "      <td>192.330854</td>\n",
       "      <td>8.667</td>\n",
       "    </tr>\n",
       "    <tr>\n",
       "      <th>6434</th>\n",
       "      <td>45</td>\n",
       "      <td>26-10-2012</td>\n",
       "      <td>760281.43</td>\n",
       "      <td>0</td>\n",
       "      <td>58.85</td>\n",
       "      <td>3.882</td>\n",
       "      <td>192.308899</td>\n",
       "      <td>8.667</td>\n",
       "    </tr>\n",
       "  </tbody>\n",
       "</table>\n",
       "<p>6435 rows × 8 columns</p>\n",
       "</div>"
      ],
      "text/plain": [
       "      Store        Date  Weekly_Sales  Holiday_Flag  Temperature  Fuel_Price  \\\n",
       "0         1  05-02-2010    1643690.90             0        42.31       2.572   \n",
       "1         1  12-02-2010    1641957.44             1        38.51       2.548   \n",
       "2         1  19-02-2010    1611968.17             0        39.93       2.514   \n",
       "3         1  26-02-2010    1409727.59             0        46.63       2.561   \n",
       "4         1  05-03-2010    1554806.68             0        46.50       2.625   \n",
       "...     ...         ...           ...           ...          ...         ...   \n",
       "6430     45  28-09-2012     713173.95             0        64.88       3.997   \n",
       "6431     45  05-10-2012     733455.07             0        64.89       3.985   \n",
       "6432     45  12-10-2012     734464.36             0        54.47       4.000   \n",
       "6433     45  19-10-2012     718125.53             0        56.47       3.969   \n",
       "6434     45  26-10-2012     760281.43             0        58.85       3.882   \n",
       "\n",
       "             CPI  Unemployment  \n",
       "0     211.096358         8.106  \n",
       "1     211.242170         8.106  \n",
       "2     211.289143         8.106  \n",
       "3     211.319643         8.106  \n",
       "4     211.350143         8.106  \n",
       "...          ...           ...  \n",
       "6430  192.013558         8.684  \n",
       "6431  192.170412         8.667  \n",
       "6432  192.327265         8.667  \n",
       "6433  192.330854         8.667  \n",
       "6434  192.308899         8.667  \n",
       "\n",
       "[6435 rows x 8 columns]"
      ]
     },
     "execution_count": 73,
     "metadata": {},
     "output_type": "execute_result"
    }
   ],
   "source": [
    "walmart = pd.read_csv('datasets/Walmart_Store_sales.csv')\n",
    "walmart"
   ]
  },
  {
   "cell_type": "markdown",
   "id": "91d8664c",
   "metadata": {},
   "source": [
    "- É possível realizar consultas por coluna e por index"
   ]
  },
  {
   "cell_type": "code",
   "execution_count": null,
   "id": "33035bff",
   "metadata": {},
   "outputs": [],
   "source": [
    "walmart.query('Holiday_Flag == 1')"
   ]
  },
  {
   "cell_type": "code",
   "execution_count": null,
   "id": "8ae5aecb",
   "metadata": {},
   "outputs": [],
   "source": [
    "walmart.query('Weekly_Sales > 3049614.93')"
   ]
  },
  {
   "cell_type": "code",
   "execution_count": null,
   "id": "933d923d",
   "metadata": {},
   "outputs": [],
   "source": [
    "walmart.query('1 <= index < 7')"
   ]
  },
  {
   "cell_type": "markdown",
   "id": "bf6816d8",
   "metadata": {},
   "source": [
    "- .iloc acessa por posição (linha,coluna)\n",
    "- .loc permite acessar as variáveis por index "
   ]
  },
  {
   "cell_type": "code",
   "execution_count": null,
   "id": "7c65adca",
   "metadata": {},
   "outputs": [],
   "source": [
    "walmart.iloc[0,1]"
   ]
  },
  {
   "cell_type": "code",
   "execution_count": null,
   "id": "05905c2e",
   "metadata": {},
   "outputs": [],
   "source": [
    "walmart.loc[[0,1,2]]"
   ]
  },
  {
   "cell_type": "code",
   "execution_count": null,
   "id": "e3c3571c",
   "metadata": {},
   "outputs": [],
   "source": [
    "walmart.loc[0]"
   ]
  },
  {
   "cell_type": "markdown",
   "id": "9a4d0c4f",
   "metadata": {},
   "source": [
    "- .loc também permite criar condições para retornar "
   ]
  },
  {
   "cell_type": "code",
   "execution_count": null,
   "id": "12065538",
   "metadata": {},
   "outputs": [],
   "source": [
    "walmart"
   ]
  },
  {
   "cell_type": "code",
   "execution_count": null,
   "id": "b1423f3b",
   "metadata": {},
   "outputs": [],
   "source": [
    "walmart.loc[walmart['Holiday_Flag'] == 1]"
   ]
  },
  {
   "cell_type": "code",
   "execution_count": null,
   "id": "97a02044",
   "metadata": {},
   "outputs": [],
   "source": [
    "walmart.loc[(walmart['Temperature'] > 90) & (walmart['Store'] == 1)]"
   ]
  },
  {
   "cell_type": "markdown",
   "id": "a71e0e83",
   "metadata": {},
   "source": [
    "- DataFrames permitem fazer copias"
   ]
  },
  {
   "cell_type": "code",
   "execution_count": null,
   "id": "47f244eb",
   "metadata": {},
   "outputs": [],
   "source": [
    "df_aux = walmart.copy()\n",
    "df_aux"
   ]
  },
  {
   "cell_type": "markdown",
   "id": "2e605c1c",
   "metadata": {},
   "source": [
    "- Podemos utilizar del para excluir colunas"
   ]
  },
  {
   "cell_type": "code",
   "execution_count": null,
   "id": "21739696",
   "metadata": {},
   "outputs": [],
   "source": [
    "del df_aux['CPI']\n",
    "df_aux"
   ]
  },
  {
   "cell_type": "markdown",
   "id": "8a88964b",
   "metadata": {},
   "source": [
    "- Já para excluir linhas devemos utilizar o drop"
   ]
  },
  {
   "cell_type": "code",
   "execution_count": null,
   "id": "2499e4d4",
   "metadata": {},
   "outputs": [],
   "source": [
    "df_aux.drop(0)"
   ]
  },
  {
   "cell_type": "code",
   "execution_count": null,
   "id": "c86eed4e",
   "metadata": {},
   "outputs": [],
   "source": [
    "df_aux.drop([1,3])"
   ]
  },
  {
   "cell_type": "markdown",
   "id": "f324bc5c",
   "metadata": {},
   "source": [
    "- Perceba que drop retorna um novo objeto removendo o que foi passado por paramentro. Mas o objeto original não é modificado"
   ]
  },
  {
   "cell_type": "code",
   "execution_count": null,
   "id": "f97d5f23",
   "metadata": {},
   "outputs": [],
   "source": [
    "df_aux"
   ]
  },
  {
   "cell_type": "markdown",
   "id": "1401292e",
   "metadata": {},
   "source": [
    "- Para realizar a operação no mesmo objeto é necessário passar True no parametro inplace"
   ]
  },
  {
   "cell_type": "code",
   "execution_count": null,
   "id": "4f14c1e7",
   "metadata": {},
   "outputs": [],
   "source": [
    "df_aux.drop([1,3], inplace=True)\n",
    "df_aux"
   ]
  },
  {
   "cell_type": "markdown",
   "id": "9c7c7a23",
   "metadata": {},
   "source": [
    "- Drop também permite a remoção de colunas"
   ]
  },
  {
   "cell_type": "code",
   "execution_count": null,
   "id": "47d3a20c",
   "metadata": {},
   "outputs": [],
   "source": [
    "df_aux.drop(['Fuel_Price','Unemployment'], inplace=True, axis='columns')\n",
    "df_aux"
   ]
  },
  {
   "cell_type": "code",
   "execution_count": null,
   "id": "9d2856be",
   "metadata": {},
   "outputs": [],
   "source": [
    "df_aux.index.name = 'indice'\n",
    "df_aux.columns.name = 'dados'"
   ]
  },
  {
   "cell_type": "code",
   "execution_count": null,
   "id": "9a1475c4",
   "metadata": {},
   "outputs": [],
   "source": [
    "df_aux"
   ]
  },
  {
   "cell_type": "markdown",
   "id": "bad2c43a",
   "metadata": {},
   "source": [
    "## <font color=green> Reindexação"
   ]
  },
  {
   "cell_type": "code",
   "execution_count": null,
   "id": "853e018a",
   "metadata": {},
   "outputs": [],
   "source": [
    "obj = pd.Series([4.5, 7.2, -5.3, 3.6], index=['d', 'b', 'a', 'c'])\n",
    "obj"
   ]
  },
  {
   "cell_type": "markdown",
   "id": "eed96462",
   "metadata": {},
   "source": [
    "- Reindex nessa Series reorganiza os dados de acordo com o novo índice, introduzindo valores indicativos de ausência se algum valor de índice não estava presente antes"
   ]
  },
  {
   "cell_type": "code",
   "execution_count": null,
   "id": "ece1205c",
   "metadata": {},
   "outputs": [],
   "source": [
    "obj2 = obj.reindex(['a', 'b', 'c', 'd', 'e'])\n",
    "obj2"
   ]
  },
  {
   "cell_type": "markdown",
   "id": "65c7eecf",
   "metadata": {},
   "source": [
    "- Para dados ordenados, como séries temporais, talvez seja desejável fazer alguma interpolação ou preenchimento de valores de reindexação. A opção method nos permite fazer isso, usando um método como ffill, que faz um preenchimento para a frente (foward-fill) dos valores, enquanto bfill preenche pra trás"
   ]
  },
  {
   "cell_type": "code",
   "execution_count": null,
   "id": "0e721f47",
   "metadata": {},
   "outputs": [],
   "source": [
    "obj3 = pd.Series(['blue', 'purple', 'yellow'], index=[0, 2, 4])\n",
    "obj3"
   ]
  },
  {
   "cell_type": "code",
   "execution_count": null,
   "id": "d6a39673",
   "metadata": {},
   "outputs": [],
   "source": [
    "obj3.reindex(range(6), method='ffill')"
   ]
  },
  {
   "cell_type": "code",
   "execution_count": null,
   "id": "2eabaf79",
   "metadata": {},
   "outputs": [],
   "source": [
    "obj3.reindex(range(6), method='bfill')"
   ]
  },
  {
   "cell_type": "markdown",
   "id": "0bc59cf2",
   "metadata": {},
   "source": [
    "- Com DataFrame, reindex pode alterar o índice (linha), as colunas, ou ambas. Se apenas uma sequência for passada, as linhas serão reindexadas no resultado"
   ]
  },
  {
   "cell_type": "code",
   "execution_count": null,
   "id": "ed1716ee",
   "metadata": {},
   "outputs": [],
   "source": [
    "frame = pd.DataFrame(np.arange(9).reshape((3,3)), \n",
    "                        index=['a','c','d'], \n",
    "                        columns=['Ohio', 'Texas', 'California'])\n",
    "frame"
   ]
  },
  {
   "cell_type": "code",
   "execution_count": null,
   "id": "46269014",
   "metadata": {},
   "outputs": [],
   "source": [
    "frame2 = frame.reindex(['a','b','c','d'])\n",
    "frame2"
   ]
  },
  {
   "cell_type": "code",
   "execution_count": null,
   "id": "9d64e0d3",
   "metadata": {},
   "outputs": [],
   "source": [
    "frame3 = frame.reindex(columns=['Texas', 'Utah', 'California'])\n",
    "frame3"
   ]
  }
 ],
 "metadata": {
  "hide_input": false,
  "kernelspec": {
   "display_name": "Python 3",
   "language": "python",
   "name": "python3"
  },
  "language_info": {
   "codemirror_mode": {
    "name": "ipython",
    "version": 3
   },
   "file_extension": ".py",
   "mimetype": "text/x-python",
   "name": "python",
   "nbconvert_exporter": "python",
   "pygments_lexer": "ipython3",
   "version": "3.8.8"
  }
 },
 "nbformat": 4,
 "nbformat_minor": 5
}
