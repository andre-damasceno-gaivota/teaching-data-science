{
 "cells": [
  {
   "cell_type": "markdown",
   "id": "a4b3d97a",
   "metadata": {},
   "source": [
    "## <font color=green> Aplicação de funções e mapeamento"
   ]
  },
  {
   "cell_type": "code",
   "execution_count": 1,
   "id": "73975c67",
   "metadata": {},
   "outputs": [],
   "source": [
    "import pandas as pd\n",
    "import numpy as np"
   ]
  },
  {
   "cell_type": "markdown",
   "id": "571b93a5",
   "metadata": {},
   "source": [
    "- Uma operação frequente consiste em aplicar uma função em arrays unidimensionais para cada coluna ou linha. O método apply faz exatamente isso."
   ]
  },
  {
   "cell_type": "code",
   "execution_count": 2,
   "id": "5ff6a0a1",
   "metadata": {},
   "outputs": [
    {
     "data": {
      "text/html": [
       "<div>\n",
       "<style scoped>\n",
       "    .dataframe tbody tr th:only-of-type {\n",
       "        vertical-align: middle;\n",
       "    }\n",
       "\n",
       "    .dataframe tbody tr th {\n",
       "        vertical-align: top;\n",
       "    }\n",
       "\n",
       "    .dataframe thead th {\n",
       "        text-align: right;\n",
       "    }\n",
       "</style>\n",
       "<table border=\"1\" class=\"dataframe\">\n",
       "  <thead>\n",
       "    <tr style=\"text-align: right;\">\n",
       "      <th></th>\n",
       "      <th>Ohio</th>\n",
       "      <th>Texas</th>\n",
       "      <th>California</th>\n",
       "    </tr>\n",
       "  </thead>\n",
       "  <tbody>\n",
       "    <tr>\n",
       "      <th>a</th>\n",
       "      <td>0</td>\n",
       "      <td>1</td>\n",
       "      <td>2</td>\n",
       "    </tr>\n",
       "    <tr>\n",
       "      <th>c</th>\n",
       "      <td>3</td>\n",
       "      <td>4</td>\n",
       "      <td>5</td>\n",
       "    </tr>\n",
       "    <tr>\n",
       "      <th>d</th>\n",
       "      <td>6</td>\n",
       "      <td>7</td>\n",
       "      <td>8</td>\n",
       "    </tr>\n",
       "  </tbody>\n",
       "</table>\n",
       "</div>"
      ],
      "text/plain": [
       "   Ohio  Texas  California\n",
       "a     0      1           2\n",
       "c     3      4           5\n",
       "d     6      7           8"
      ]
     },
     "execution_count": 2,
     "metadata": {},
     "output_type": "execute_result"
    }
   ],
   "source": [
    "frame = pd.DataFrame(np.arange(9).reshape((3,3)), \n",
    "                        index=['a','c','d'], \n",
    "                        columns=['Ohio', 'Texas', 'California'])\n",
    "frame"
   ]
  },
  {
   "cell_type": "markdown",
   "id": "5266dfe1",
   "metadata": {},
   "source": [
    "- Nesse caso, a função f, que calcula a diferença entre o máximo e o mínimo de uma Series, é chamada uma vez em cada coluna de frame. O resultado é uma Series com as colunas de frame como seu índice."
   ]
  },
  {
   "cell_type": "code",
   "execution_count": 3,
   "id": "6636b0b6",
   "metadata": {},
   "outputs": [
    {
     "data": {
      "text/plain": [
       "Ohio          6\n",
       "Texas         6\n",
       "California    6\n",
       "dtype: int64"
      ]
     },
     "execution_count": 3,
     "metadata": {},
     "output_type": "execute_result"
    }
   ],
   "source": [
    "f = lambda x: x.max() - x.min()\n",
    "frame.apply(f)"
   ]
  },
  {
   "cell_type": "markdown",
   "id": "ee622957",
   "metadata": {},
   "source": [
    "- Se você passar axis='columns' para apply, a função será chamada uma vez por linha"
   ]
  },
  {
   "cell_type": "code",
   "execution_count": 4,
   "id": "a39a0967",
   "metadata": {},
   "outputs": [
    {
     "data": {
      "text/plain": [
       "a    2\n",
       "c    2\n",
       "d    2\n",
       "dtype: int64"
      ]
     },
     "execution_count": 4,
     "metadata": {},
     "output_type": "execute_result"
    }
   ],
   "source": [
    "frame.apply(f, axis='columns')"
   ]
  },
  {
   "cell_type": "markdown",
   "id": "86728133",
   "metadata": {},
   "source": [
    "- Podemos atribuir uma nova coluna que recebe o valor do processamento do apply"
   ]
  },
  {
   "cell_type": "code",
   "execution_count": 5,
   "id": "ba104f0e",
   "metadata": {},
   "outputs": [
    {
     "data": {
      "text/html": [
       "<div>\n",
       "<style scoped>\n",
       "    .dataframe tbody tr th:only-of-type {\n",
       "        vertical-align: middle;\n",
       "    }\n",
       "\n",
       "    .dataframe tbody tr th {\n",
       "        vertical-align: top;\n",
       "    }\n",
       "\n",
       "    .dataframe thead th {\n",
       "        text-align: right;\n",
       "    }\n",
       "</style>\n",
       "<table border=\"1\" class=\"dataframe\">\n",
       "  <thead>\n",
       "    <tr style=\"text-align: right;\">\n",
       "      <th></th>\n",
       "      <th>Ohio</th>\n",
       "      <th>Texas</th>\n",
       "      <th>California</th>\n",
       "      <th>total</th>\n",
       "    </tr>\n",
       "  </thead>\n",
       "  <tbody>\n",
       "    <tr>\n",
       "      <th>a</th>\n",
       "      <td>0</td>\n",
       "      <td>1</td>\n",
       "      <td>2</td>\n",
       "      <td>3</td>\n",
       "    </tr>\n",
       "    <tr>\n",
       "      <th>c</th>\n",
       "      <td>3</td>\n",
       "      <td>4</td>\n",
       "      <td>5</td>\n",
       "      <td>12</td>\n",
       "    </tr>\n",
       "    <tr>\n",
       "      <th>d</th>\n",
       "      <td>6</td>\n",
       "      <td>7</td>\n",
       "      <td>8</td>\n",
       "      <td>21</td>\n",
       "    </tr>\n",
       "  </tbody>\n",
       "</table>\n",
       "</div>"
      ],
      "text/plain": [
       "   Ohio  Texas  California  total\n",
       "a     0      1           2      3\n",
       "c     3      4           5     12\n",
       "d     6      7           8     21"
      ]
     },
     "execution_count": 5,
     "metadata": {},
     "output_type": "execute_result"
    }
   ],
   "source": [
    "frame['total'] = frame.apply(lambda x: x.sum(), axis='columns')\n",
    "frame"
   ]
  },
  {
   "cell_type": "code",
   "execution_count": 6,
   "id": "a33339a3",
   "metadata": {},
   "outputs": [
    {
     "data": {
      "text/html": [
       "<div>\n",
       "<style scoped>\n",
       "    .dataframe tbody tr th:only-of-type {\n",
       "        vertical-align: middle;\n",
       "    }\n",
       "\n",
       "    .dataframe tbody tr th {\n",
       "        vertical-align: top;\n",
       "    }\n",
       "\n",
       "    .dataframe thead th {\n",
       "        text-align: right;\n",
       "    }\n",
       "</style>\n",
       "<table border=\"1\" class=\"dataframe\">\n",
       "  <thead>\n",
       "    <tr style=\"text-align: right;\">\n",
       "      <th></th>\n",
       "      <th>Ohio</th>\n",
       "      <th>Texas</th>\n",
       "      <th>California</th>\n",
       "      <th>total</th>\n",
       "      <th>category</th>\n",
       "    </tr>\n",
       "  </thead>\n",
       "  <tbody>\n",
       "    <tr>\n",
       "      <th>a</th>\n",
       "      <td>0</td>\n",
       "      <td>1</td>\n",
       "      <td>2</td>\n",
       "      <td>3</td>\n",
       "      <td>impar</td>\n",
       "    </tr>\n",
       "    <tr>\n",
       "      <th>c</th>\n",
       "      <td>3</td>\n",
       "      <td>4</td>\n",
       "      <td>5</td>\n",
       "      <td>12</td>\n",
       "      <td>par</td>\n",
       "    </tr>\n",
       "    <tr>\n",
       "      <th>d</th>\n",
       "      <td>6</td>\n",
       "      <td>7</td>\n",
       "      <td>8</td>\n",
       "      <td>21</td>\n",
       "      <td>impar</td>\n",
       "    </tr>\n",
       "  </tbody>\n",
       "</table>\n",
       "</div>"
      ],
      "text/plain": [
       "   Ohio  Texas  California  total category\n",
       "a     0      1           2      3    impar\n",
       "c     3      4           5     12      par\n",
       "d     6      7           8     21    impar"
      ]
     },
     "execution_count": 6,
     "metadata": {},
     "output_type": "execute_result"
    }
   ],
   "source": [
    "frame['category'] = frame['total'].apply(lambda x: 'impar' if x%2 else 'par')\n",
    "frame"
   ]
  },
  {
   "cell_type": "markdown",
   "id": "9909f982",
   "metadata": {},
   "source": [
    "- A função passada para apply não precisa devolver um valor escalar. Ela também pode devolver uma Series com múltiplos valores"
   ]
  },
  {
   "cell_type": "code",
   "execution_count": 7,
   "id": "54b92a98",
   "metadata": {},
   "outputs": [
    {
     "data": {
      "text/html": [
       "<div>\n",
       "<style scoped>\n",
       "    .dataframe tbody tr th:only-of-type {\n",
       "        vertical-align: middle;\n",
       "    }\n",
       "\n",
       "    .dataframe tbody tr th {\n",
       "        vertical-align: top;\n",
       "    }\n",
       "\n",
       "    .dataframe thead th {\n",
       "        text-align: right;\n",
       "    }\n",
       "</style>\n",
       "<table border=\"1\" class=\"dataframe\">\n",
       "  <thead>\n",
       "    <tr style=\"text-align: right;\">\n",
       "      <th></th>\n",
       "      <th>Ohio</th>\n",
       "      <th>Texas</th>\n",
       "      <th>California</th>\n",
       "      <th>total</th>\n",
       "      <th>category</th>\n",
       "    </tr>\n",
       "  </thead>\n",
       "  <tbody>\n",
       "    <tr>\n",
       "      <th>min</th>\n",
       "      <td>0</td>\n",
       "      <td>1</td>\n",
       "      <td>2</td>\n",
       "      <td>3</td>\n",
       "      <td>impar</td>\n",
       "    </tr>\n",
       "    <tr>\n",
       "      <th>max</th>\n",
       "      <td>6</td>\n",
       "      <td>7</td>\n",
       "      <td>8</td>\n",
       "      <td>21</td>\n",
       "      <td>par</td>\n",
       "    </tr>\n",
       "  </tbody>\n",
       "</table>\n",
       "</div>"
      ],
      "text/plain": [
       "     Ohio  Texas  California  total category\n",
       "min     0      1           2      3    impar\n",
       "max     6      7           8     21      par"
      ]
     },
     "execution_count": 7,
     "metadata": {},
     "output_type": "execute_result"
    }
   ],
   "source": [
    "def f(x):\n",
    "    return pd.Series([x.min(), x.max()], index=['min', 'max'])\n",
    "\n",
    "frame.apply(f)"
   ]
  },
  {
   "cell_type": "markdown",
   "id": "e235cb77",
   "metadata": {},
   "source": [
    "- Suponha que você quisesse calcular uma string formatada para cada valor de ponto flutuante em frame. Isso poderia ser feito com applymap\n",
    "- O motivo para o nome applymap está no fato de Series ter um método map para aplicar uma função em todos os elementos"
   ]
  },
  {
   "cell_type": "code",
   "execution_count": 8,
   "id": "b33be849",
   "metadata": {},
   "outputs": [
    {
     "data": {
      "text/html": [
       "<div>\n",
       "<style scoped>\n",
       "    .dataframe tbody tr th:only-of-type {\n",
       "        vertical-align: middle;\n",
       "    }\n",
       "\n",
       "    .dataframe tbody tr th {\n",
       "        vertical-align: top;\n",
       "    }\n",
       "\n",
       "    .dataframe thead th {\n",
       "        text-align: right;\n",
       "    }\n",
       "</style>\n",
       "<table border=\"1\" class=\"dataframe\">\n",
       "  <thead>\n",
       "    <tr style=\"text-align: right;\">\n",
       "      <th></th>\n",
       "      <th>a</th>\n",
       "      <th>b</th>\n",
       "      <th>c</th>\n",
       "    </tr>\n",
       "  </thead>\n",
       "  <tbody>\n",
       "    <tr>\n",
       "      <th>c1</th>\n",
       "      <td>-1.106564</td>\n",
       "      <td>-1.384582</td>\n",
       "      <td>0.324463</td>\n",
       "    </tr>\n",
       "    <tr>\n",
       "      <th>c2</th>\n",
       "      <td>0.398629</td>\n",
       "      <td>-1.767336</td>\n",
       "      <td>1.515648</td>\n",
       "    </tr>\n",
       "    <tr>\n",
       "      <th>c3</th>\n",
       "      <td>-1.816829</td>\n",
       "      <td>0.212401</td>\n",
       "      <td>-0.096618</td>\n",
       "    </tr>\n",
       "    <tr>\n",
       "      <th>c4</th>\n",
       "      <td>0.517339</td>\n",
       "      <td>-0.032937</td>\n",
       "      <td>-0.270520</td>\n",
       "    </tr>\n",
       "  </tbody>\n",
       "</table>\n",
       "</div>"
      ],
      "text/plain": [
       "           a         b         c\n",
       "c1 -1.106564 -1.384582  0.324463\n",
       "c2  0.398629 -1.767336  1.515648\n",
       "c3 -1.816829  0.212401 -0.096618\n",
       "c4  0.517339 -0.032937 -0.270520"
      ]
     },
     "execution_count": 8,
     "metadata": {},
     "output_type": "execute_result"
    }
   ],
   "source": [
    "numbers = pd.DataFrame(np.random.randn(4,3), columns=list('abc'), index=['c1', 'c2', 'c3', 'c4'])\n",
    "numbers"
   ]
  },
  {
   "cell_type": "code",
   "execution_count": 9,
   "id": "dc5eea2e",
   "metadata": {},
   "outputs": [
    {
     "data": {
      "text/html": [
       "<div>\n",
       "<style scoped>\n",
       "    .dataframe tbody tr th:only-of-type {\n",
       "        vertical-align: middle;\n",
       "    }\n",
       "\n",
       "    .dataframe tbody tr th {\n",
       "        vertical-align: top;\n",
       "    }\n",
       "\n",
       "    .dataframe thead th {\n",
       "        text-align: right;\n",
       "    }\n",
       "</style>\n",
       "<table border=\"1\" class=\"dataframe\">\n",
       "  <thead>\n",
       "    <tr style=\"text-align: right;\">\n",
       "      <th></th>\n",
       "      <th>a</th>\n",
       "      <th>b</th>\n",
       "      <th>c</th>\n",
       "    </tr>\n",
       "  </thead>\n",
       "  <tbody>\n",
       "    <tr>\n",
       "      <th>c1</th>\n",
       "      <td>-1.11</td>\n",
       "      <td>-1.38</td>\n",
       "      <td>0.32</td>\n",
       "    </tr>\n",
       "    <tr>\n",
       "      <th>c2</th>\n",
       "      <td>0.40</td>\n",
       "      <td>-1.77</td>\n",
       "      <td>1.52</td>\n",
       "    </tr>\n",
       "    <tr>\n",
       "      <th>c3</th>\n",
       "      <td>-1.82</td>\n",
       "      <td>0.21</td>\n",
       "      <td>-0.10</td>\n",
       "    </tr>\n",
       "    <tr>\n",
       "      <th>c4</th>\n",
       "      <td>0.52</td>\n",
       "      <td>-0.03</td>\n",
       "      <td>-0.27</td>\n",
       "    </tr>\n",
       "  </tbody>\n",
       "</table>\n",
       "</div>"
      ],
      "text/plain": [
       "        a      b      c\n",
       "c1  -1.11  -1.38   0.32\n",
       "c2   0.40  -1.77   1.52\n",
       "c3  -1.82   0.21  -0.10\n",
       "c4   0.52  -0.03  -0.27"
      ]
     },
     "execution_count": 9,
     "metadata": {},
     "output_type": "execute_result"
    }
   ],
   "source": [
    "format = lambda x: '%.2f' % x\n",
    "numbers.applymap(format)"
   ]
  },
  {
   "cell_type": "code",
   "execution_count": 10,
   "id": "80854e3c",
   "metadata": {},
   "outputs": [
    {
     "data": {
      "text/plain": [
       "c1     0.32\n",
       "c2     1.52\n",
       "c3    -0.10\n",
       "c4    -0.27\n",
       "Name: c, dtype: object"
      ]
     },
     "execution_count": 10,
     "metadata": {},
     "output_type": "execute_result"
    }
   ],
   "source": [
    "numbers['c'].map(format)"
   ]
  },
  {
   "cell_type": "markdown",
   "id": "3891330a",
   "metadata": {},
   "source": [
    "- Suponha que você quisesse exibir os valores menores que 0 na cor vermelha e o restante na cor azul. Isso também pode ser feito com applymap"
   ]
  },
  {
   "cell_type": "code",
   "execution_count": 11,
   "id": "31ddf199",
   "metadata": {},
   "outputs": [],
   "source": [
    "def color_df(val):\n",
    "    color = 'red' if val < 0 else 'blue'\n",
    "    return 'color: ' + color"
   ]
  },
  {
   "cell_type": "code",
   "execution_count": 12,
   "id": "00b43526",
   "metadata": {},
   "outputs": [
    {
     "data": {
      "text/html": [
       "<style  type=\"text/css\" >\n",
       "#T_19881_row0_col0,#T_19881_row0_col1,#T_19881_row1_col1,#T_19881_row2_col0,#T_19881_row2_col2,#T_19881_row3_col1,#T_19881_row3_col2{\n",
       "            color:  red;\n",
       "        }#T_19881_row0_col2,#T_19881_row1_col0,#T_19881_row1_col2,#T_19881_row2_col1,#T_19881_row3_col0{\n",
       "            color:  blue;\n",
       "        }</style><table id=\"T_19881_\" ><thead>    <tr>        <th class=\"blank level0\" ></th>        <th class=\"col_heading level0 col0\" >a</th>        <th class=\"col_heading level0 col1\" >b</th>        <th class=\"col_heading level0 col2\" >c</th>    </tr></thead><tbody>\n",
       "                <tr>\n",
       "                        <th id=\"T_19881_level0_row0\" class=\"row_heading level0 row0\" >c1</th>\n",
       "                        <td id=\"T_19881_row0_col0\" class=\"data row0 col0\" >-1.106564</td>\n",
       "                        <td id=\"T_19881_row0_col1\" class=\"data row0 col1\" >-1.384582</td>\n",
       "                        <td id=\"T_19881_row0_col2\" class=\"data row0 col2\" >0.324463</td>\n",
       "            </tr>\n",
       "            <tr>\n",
       "                        <th id=\"T_19881_level0_row1\" class=\"row_heading level0 row1\" >c2</th>\n",
       "                        <td id=\"T_19881_row1_col0\" class=\"data row1 col0\" >0.398629</td>\n",
       "                        <td id=\"T_19881_row1_col1\" class=\"data row1 col1\" >-1.767336</td>\n",
       "                        <td id=\"T_19881_row1_col2\" class=\"data row1 col2\" >1.515648</td>\n",
       "            </tr>\n",
       "            <tr>\n",
       "                        <th id=\"T_19881_level0_row2\" class=\"row_heading level0 row2\" >c3</th>\n",
       "                        <td id=\"T_19881_row2_col0\" class=\"data row2 col0\" >-1.816829</td>\n",
       "                        <td id=\"T_19881_row2_col1\" class=\"data row2 col1\" >0.212401</td>\n",
       "                        <td id=\"T_19881_row2_col2\" class=\"data row2 col2\" >-0.096618</td>\n",
       "            </tr>\n",
       "            <tr>\n",
       "                        <th id=\"T_19881_level0_row3\" class=\"row_heading level0 row3\" >c4</th>\n",
       "                        <td id=\"T_19881_row3_col0\" class=\"data row3 col0\" >0.517339</td>\n",
       "                        <td id=\"T_19881_row3_col1\" class=\"data row3 col1\" >-0.032937</td>\n",
       "                        <td id=\"T_19881_row3_col2\" class=\"data row3 col2\" >-0.270520</td>\n",
       "            </tr>\n",
       "    </tbody></table>"
      ],
      "text/plain": [
       "<pandas.io.formats.style.Styler at 0x7fd079eeee50>"
      ]
     },
     "execution_count": 12,
     "metadata": {},
     "output_type": "execute_result"
    }
   ],
   "source": [
    "numbers.style.applymap(color_df)"
   ]
  },
  {
   "cell_type": "markdown",
   "id": "6c48c306",
   "metadata": {},
   "source": [
    "## <font color=green> Ordenação e classificação"
   ]
  },
  {
   "cell_type": "markdown",
   "id": "61fc76ef",
   "metadata": {},
   "source": [
    "- Para ordenar de modo lexicográfico pelo índice da linha ou da coluna, utilize o método sort_index, que devolve um novo objeto ordenado"
   ]
  },
  {
   "cell_type": "code",
   "execution_count": 13,
   "id": "98ef709e",
   "metadata": {},
   "outputs": [
    {
     "data": {
      "text/plain": [
       "d    0\n",
       "a    1\n",
       "b    2\n",
       "c    3\n",
       "dtype: int64"
      ]
     },
     "execution_count": 13,
     "metadata": {},
     "output_type": "execute_result"
    }
   ],
   "source": [
    "obj = pd.Series(range(4), index=['d', 'a', 'b', 'c'])\n",
    "obj"
   ]
  },
  {
   "cell_type": "code",
   "execution_count": 14,
   "id": "56bcb694",
   "metadata": {},
   "outputs": [
    {
     "data": {
      "text/plain": [
       "a    1\n",
       "b    2\n",
       "c    3\n",
       "d    0\n",
       "dtype: int64"
      ]
     },
     "execution_count": 14,
     "metadata": {},
     "output_type": "execute_result"
    }
   ],
   "source": [
    "obj.sort_index()"
   ]
  },
  {
   "cell_type": "markdown",
   "id": "b6b30b80",
   "metadata": {},
   "source": [
    "- Com um DataFrame, você pode ordenar pelo índice em qualquer eixo"
   ]
  },
  {
   "cell_type": "code",
   "execution_count": 15,
   "id": "4f4e8227",
   "metadata": {},
   "outputs": [],
   "source": [
    "frame = pd.DataFrame(np.arange(8).reshape((2,4)), index=['three', 'one'], columns=['d', 'a', 'b', 'c'])"
   ]
  },
  {
   "cell_type": "code",
   "execution_count": 16,
   "id": "686874d3",
   "metadata": {},
   "outputs": [
    {
     "data": {
      "text/html": [
       "<div>\n",
       "<style scoped>\n",
       "    .dataframe tbody tr th:only-of-type {\n",
       "        vertical-align: middle;\n",
       "    }\n",
       "\n",
       "    .dataframe tbody tr th {\n",
       "        vertical-align: top;\n",
       "    }\n",
       "\n",
       "    .dataframe thead th {\n",
       "        text-align: right;\n",
       "    }\n",
       "</style>\n",
       "<table border=\"1\" class=\"dataframe\">\n",
       "  <thead>\n",
       "    <tr style=\"text-align: right;\">\n",
       "      <th></th>\n",
       "      <th>d</th>\n",
       "      <th>a</th>\n",
       "      <th>b</th>\n",
       "      <th>c</th>\n",
       "    </tr>\n",
       "  </thead>\n",
       "  <tbody>\n",
       "    <tr>\n",
       "      <th>one</th>\n",
       "      <td>4</td>\n",
       "      <td>5</td>\n",
       "      <td>6</td>\n",
       "      <td>7</td>\n",
       "    </tr>\n",
       "    <tr>\n",
       "      <th>three</th>\n",
       "      <td>0</td>\n",
       "      <td>1</td>\n",
       "      <td>2</td>\n",
       "      <td>3</td>\n",
       "    </tr>\n",
       "  </tbody>\n",
       "</table>\n",
       "</div>"
      ],
      "text/plain": [
       "       d  a  b  c\n",
       "one    4  5  6  7\n",
       "three  0  1  2  3"
      ]
     },
     "execution_count": 16,
     "metadata": {},
     "output_type": "execute_result"
    }
   ],
   "source": [
    "frame.sort_index()"
   ]
  },
  {
   "cell_type": "code",
   "execution_count": 17,
   "id": "ebcaed7c",
   "metadata": {},
   "outputs": [
    {
     "data": {
      "text/html": [
       "<div>\n",
       "<style scoped>\n",
       "    .dataframe tbody tr th:only-of-type {\n",
       "        vertical-align: middle;\n",
       "    }\n",
       "\n",
       "    .dataframe tbody tr th {\n",
       "        vertical-align: top;\n",
       "    }\n",
       "\n",
       "    .dataframe thead th {\n",
       "        text-align: right;\n",
       "    }\n",
       "</style>\n",
       "<table border=\"1\" class=\"dataframe\">\n",
       "  <thead>\n",
       "    <tr style=\"text-align: right;\">\n",
       "      <th></th>\n",
       "      <th>a</th>\n",
       "      <th>b</th>\n",
       "      <th>c</th>\n",
       "      <th>d</th>\n",
       "    </tr>\n",
       "  </thead>\n",
       "  <tbody>\n",
       "    <tr>\n",
       "      <th>three</th>\n",
       "      <td>1</td>\n",
       "      <td>2</td>\n",
       "      <td>3</td>\n",
       "      <td>0</td>\n",
       "    </tr>\n",
       "    <tr>\n",
       "      <th>one</th>\n",
       "      <td>5</td>\n",
       "      <td>6</td>\n",
       "      <td>7</td>\n",
       "      <td>4</td>\n",
       "    </tr>\n",
       "  </tbody>\n",
       "</table>\n",
       "</div>"
      ],
      "text/plain": [
       "       a  b  c  d\n",
       "three  1  2  3  0\n",
       "one    5  6  7  4"
      ]
     },
     "execution_count": 17,
     "metadata": {},
     "output_type": "execute_result"
    }
   ],
   "source": [
    "frame.sort_index(axis='columns')"
   ]
  },
  {
   "cell_type": "markdown",
   "id": "bdea88fc",
   "metadata": {},
   "source": [
    "- Os dados são ordenados em ordem crescente por padrão, mas podem ser ordenados também em ordem decrescente"
   ]
  },
  {
   "cell_type": "code",
   "execution_count": 18,
   "id": "aabb1cce",
   "metadata": {},
   "outputs": [
    {
     "data": {
      "text/html": [
       "<div>\n",
       "<style scoped>\n",
       "    .dataframe tbody tr th:only-of-type {\n",
       "        vertical-align: middle;\n",
       "    }\n",
       "\n",
       "    .dataframe tbody tr th {\n",
       "        vertical-align: top;\n",
       "    }\n",
       "\n",
       "    .dataframe thead th {\n",
       "        text-align: right;\n",
       "    }\n",
       "</style>\n",
       "<table border=\"1\" class=\"dataframe\">\n",
       "  <thead>\n",
       "    <tr style=\"text-align: right;\">\n",
       "      <th></th>\n",
       "      <th>d</th>\n",
       "      <th>c</th>\n",
       "      <th>b</th>\n",
       "      <th>a</th>\n",
       "    </tr>\n",
       "  </thead>\n",
       "  <tbody>\n",
       "    <tr>\n",
       "      <th>three</th>\n",
       "      <td>0</td>\n",
       "      <td>3</td>\n",
       "      <td>2</td>\n",
       "      <td>1</td>\n",
       "    </tr>\n",
       "    <tr>\n",
       "      <th>one</th>\n",
       "      <td>4</td>\n",
       "      <td>7</td>\n",
       "      <td>6</td>\n",
       "      <td>5</td>\n",
       "    </tr>\n",
       "  </tbody>\n",
       "</table>\n",
       "</div>"
      ],
      "text/plain": [
       "       d  c  b  a\n",
       "three  0  3  2  1\n",
       "one    4  7  6  5"
      ]
     },
     "execution_count": 18,
     "metadata": {},
     "output_type": "execute_result"
    }
   ],
   "source": [
    "frame.sort_index(axis='columns', ascending=False)"
   ]
  },
  {
   "cell_type": "markdown",
   "id": "88d4be44",
   "metadata": {},
   "source": [
    "- Para ordenar uma Series de acordo com seus valores, utiliza o seu método sort_values"
   ]
  },
  {
   "cell_type": "code",
   "execution_count": 19,
   "id": "cba2ea78",
   "metadata": {},
   "outputs": [
    {
     "data": {
      "text/plain": [
       "0    4\n",
       "1    7\n",
       "2   -3\n",
       "3    2\n",
       "dtype: int64"
      ]
     },
     "execution_count": 19,
     "metadata": {},
     "output_type": "execute_result"
    }
   ],
   "source": [
    "obj = pd.Series([4,7,-3,2])\n",
    "obj"
   ]
  },
  {
   "cell_type": "code",
   "execution_count": 20,
   "id": "4abcfa45",
   "metadata": {},
   "outputs": [
    {
     "data": {
      "text/plain": [
       "2   -3\n",
       "3    2\n",
       "0    4\n",
       "1    7\n",
       "dtype: int64"
      ]
     },
     "execution_count": 20,
     "metadata": {},
     "output_type": "execute_result"
    }
   ],
   "source": [
    "obj.sort_values()"
   ]
  },
  {
   "cell_type": "markdown",
   "id": "15ceab28",
   "metadata": {},
   "source": [
    "- Qualquer valor indicativo de ausência será ordenado no final da Series, por padrão"
   ]
  },
  {
   "cell_type": "code",
   "execution_count": 21,
   "id": "f628ff32",
   "metadata": {},
   "outputs": [
    {
     "data": {
      "text/plain": [
       "0    4.0\n",
       "1    NaN\n",
       "2    7.0\n",
       "3    NaN\n",
       "4   -3.0\n",
       "5    2.0\n",
       "dtype: float64"
      ]
     },
     "execution_count": 21,
     "metadata": {},
     "output_type": "execute_result"
    }
   ],
   "source": [
    "obj = pd.Series([4, np.nan, 7, np.nan, -3, 2])\n",
    "obj"
   ]
  },
  {
   "cell_type": "code",
   "execution_count": 22,
   "id": "96395bc6",
   "metadata": {},
   "outputs": [
    {
     "data": {
      "text/plain": [
       "4   -3.0\n",
       "5    2.0\n",
       "0    4.0\n",
       "2    7.0\n",
       "1    NaN\n",
       "3    NaN\n",
       "dtype: float64"
      ]
     },
     "execution_count": 22,
     "metadata": {},
     "output_type": "execute_result"
    }
   ],
   "source": [
    "obj.sort_values()"
   ]
  },
  {
   "cell_type": "markdown",
   "id": "1ed43aed",
   "metadata": {},
   "source": [
    "- Quando ordenar um DataFrame, você poderá usar os dados de uma ou mais colunas como chaves de ordenação. Para isso, passe um ou mais nomes de coluna para a opção by de sort_values"
   ]
  },
  {
   "cell_type": "code",
   "execution_count": 23,
   "id": "86368d5c",
   "metadata": {},
   "outputs": [
    {
     "data": {
      "text/html": [
       "<div>\n",
       "<style scoped>\n",
       "    .dataframe tbody tr th:only-of-type {\n",
       "        vertical-align: middle;\n",
       "    }\n",
       "\n",
       "    .dataframe tbody tr th {\n",
       "        vertical-align: top;\n",
       "    }\n",
       "\n",
       "    .dataframe thead th {\n",
       "        text-align: right;\n",
       "    }\n",
       "</style>\n",
       "<table border=\"1\" class=\"dataframe\">\n",
       "  <thead>\n",
       "    <tr style=\"text-align: right;\">\n",
       "      <th></th>\n",
       "      <th>b</th>\n",
       "      <th>a</th>\n",
       "    </tr>\n",
       "  </thead>\n",
       "  <tbody>\n",
       "    <tr>\n",
       "      <th>0</th>\n",
       "      <td>4</td>\n",
       "      <td>0</td>\n",
       "    </tr>\n",
       "    <tr>\n",
       "      <th>1</th>\n",
       "      <td>7</td>\n",
       "      <td>1</td>\n",
       "    </tr>\n",
       "    <tr>\n",
       "      <th>2</th>\n",
       "      <td>-3</td>\n",
       "      <td>0</td>\n",
       "    </tr>\n",
       "    <tr>\n",
       "      <th>3</th>\n",
       "      <td>2</td>\n",
       "      <td>1</td>\n",
       "    </tr>\n",
       "  </tbody>\n",
       "</table>\n",
       "</div>"
      ],
      "text/plain": [
       "   b  a\n",
       "0  4  0\n",
       "1  7  1\n",
       "2 -3  0\n",
       "3  2  1"
      ]
     },
     "execution_count": 23,
     "metadata": {},
     "output_type": "execute_result"
    }
   ],
   "source": [
    "frame = pd.DataFrame({'b': [4, 7, -3, 2], 'a': [0, 1, 0, 1]})\n",
    "frame"
   ]
  },
  {
   "cell_type": "code",
   "execution_count": 24,
   "id": "39b0ed65",
   "metadata": {},
   "outputs": [
    {
     "data": {
      "text/html": [
       "<div>\n",
       "<style scoped>\n",
       "    .dataframe tbody tr th:only-of-type {\n",
       "        vertical-align: middle;\n",
       "    }\n",
       "\n",
       "    .dataframe tbody tr th {\n",
       "        vertical-align: top;\n",
       "    }\n",
       "\n",
       "    .dataframe thead th {\n",
       "        text-align: right;\n",
       "    }\n",
       "</style>\n",
       "<table border=\"1\" class=\"dataframe\">\n",
       "  <thead>\n",
       "    <tr style=\"text-align: right;\">\n",
       "      <th></th>\n",
       "      <th>b</th>\n",
       "      <th>a</th>\n",
       "    </tr>\n",
       "  </thead>\n",
       "  <tbody>\n",
       "    <tr>\n",
       "      <th>2</th>\n",
       "      <td>-3</td>\n",
       "      <td>0</td>\n",
       "    </tr>\n",
       "    <tr>\n",
       "      <th>3</th>\n",
       "      <td>2</td>\n",
       "      <td>1</td>\n",
       "    </tr>\n",
       "    <tr>\n",
       "      <th>0</th>\n",
       "      <td>4</td>\n",
       "      <td>0</td>\n",
       "    </tr>\n",
       "    <tr>\n",
       "      <th>1</th>\n",
       "      <td>7</td>\n",
       "      <td>1</td>\n",
       "    </tr>\n",
       "  </tbody>\n",
       "</table>\n",
       "</div>"
      ],
      "text/plain": [
       "   b  a\n",
       "2 -3  0\n",
       "3  2  1\n",
       "0  4  0\n",
       "1  7  1"
      ]
     },
     "execution_count": 24,
     "metadata": {},
     "output_type": "execute_result"
    }
   ],
   "source": [
    "frame.sort_values(by='b')"
   ]
  },
  {
   "cell_type": "markdown",
   "id": "e3725a2c",
   "metadata": {},
   "source": [
    "- Para ordenar de acordo com várias colunas, passe uma lista de nomes"
   ]
  },
  {
   "cell_type": "code",
   "execution_count": 25,
   "id": "6e44393d",
   "metadata": {},
   "outputs": [
    {
     "data": {
      "text/html": [
       "<div>\n",
       "<style scoped>\n",
       "    .dataframe tbody tr th:only-of-type {\n",
       "        vertical-align: middle;\n",
       "    }\n",
       "\n",
       "    .dataframe tbody tr th {\n",
       "        vertical-align: top;\n",
       "    }\n",
       "\n",
       "    .dataframe thead th {\n",
       "        text-align: right;\n",
       "    }\n",
       "</style>\n",
       "<table border=\"1\" class=\"dataframe\">\n",
       "  <thead>\n",
       "    <tr style=\"text-align: right;\">\n",
       "      <th></th>\n",
       "      <th>b</th>\n",
       "      <th>a</th>\n",
       "    </tr>\n",
       "  </thead>\n",
       "  <tbody>\n",
       "    <tr>\n",
       "      <th>2</th>\n",
       "      <td>-3</td>\n",
       "      <td>0</td>\n",
       "    </tr>\n",
       "    <tr>\n",
       "      <th>0</th>\n",
       "      <td>4</td>\n",
       "      <td>0</td>\n",
       "    </tr>\n",
       "    <tr>\n",
       "      <th>3</th>\n",
       "      <td>2</td>\n",
       "      <td>1</td>\n",
       "    </tr>\n",
       "    <tr>\n",
       "      <th>1</th>\n",
       "      <td>7</td>\n",
       "      <td>1</td>\n",
       "    </tr>\n",
       "  </tbody>\n",
       "</table>\n",
       "</div>"
      ],
      "text/plain": [
       "   b  a\n",
       "2 -3  0\n",
       "0  4  0\n",
       "3  2  1\n",
       "1  7  1"
      ]
     },
     "execution_count": 25,
     "metadata": {},
     "output_type": "execute_result"
    }
   ],
   "source": [
    "frame.sort_values(by=['a','b'])"
   ]
  },
  {
   "cell_type": "markdown",
   "id": "c5c8db68",
   "metadata": {},
   "source": [
    "- Outra forma de ordenação é através dos métodos nlargest e nsmallest que retornam respectivamente os maiors e menores valores de uma ou mais coluna."
   ]
  },
  {
   "cell_type": "code",
   "execution_count": 26,
   "id": "a454d2e3",
   "metadata": {},
   "outputs": [
    {
     "data": {
      "text/html": [
       "<div>\n",
       "<style scoped>\n",
       "    .dataframe tbody tr th:only-of-type {\n",
       "        vertical-align: middle;\n",
       "    }\n",
       "\n",
       "    .dataframe tbody tr th {\n",
       "        vertical-align: top;\n",
       "    }\n",
       "\n",
       "    .dataframe thead th {\n",
       "        text-align: right;\n",
       "    }\n",
       "</style>\n",
       "<table border=\"1\" class=\"dataframe\">\n",
       "  <thead>\n",
       "    <tr style=\"text-align: right;\">\n",
       "      <th></th>\n",
       "      <th>Title</th>\n",
       "      <th>title_year</th>\n",
       "      <th>budget</th>\n",
       "      <th>Gross</th>\n",
       "      <th>IMDb_rating</th>\n",
       "    </tr>\n",
       "  </thead>\n",
       "  <tbody>\n",
       "    <tr>\n",
       "      <th>0</th>\n",
       "      <td>La La Land</td>\n",
       "      <td>2016</td>\n",
       "      <td>30000000</td>\n",
       "      <td>151101803</td>\n",
       "      <td>8.2</td>\n",
       "    </tr>\n",
       "    <tr>\n",
       "      <th>1</th>\n",
       "      <td>Zootopia</td>\n",
       "      <td>2016</td>\n",
       "      <td>150000000</td>\n",
       "      <td>341268248</td>\n",
       "      <td>8.1</td>\n",
       "    </tr>\n",
       "    <tr>\n",
       "      <th>2</th>\n",
       "      <td>Lion</td>\n",
       "      <td>2016</td>\n",
       "      <td>12000000</td>\n",
       "      <td>51738905</td>\n",
       "      <td>8.1</td>\n",
       "    </tr>\n",
       "    <tr>\n",
       "      <th>3</th>\n",
       "      <td>Arrival</td>\n",
       "      <td>2016</td>\n",
       "      <td>47000000</td>\n",
       "      <td>100546139</td>\n",
       "      <td>8.0</td>\n",
       "    </tr>\n",
       "    <tr>\n",
       "      <th>4</th>\n",
       "      <td>Manchester by the Sea</td>\n",
       "      <td>2016</td>\n",
       "      <td>9000000</td>\n",
       "      <td>47695371</td>\n",
       "      <td>7.9</td>\n",
       "    </tr>\n",
       "    <tr>\n",
       "      <th>...</th>\n",
       "      <td>...</td>\n",
       "      <td>...</td>\n",
       "      <td>...</td>\n",
       "      <td>...</td>\n",
       "      <td>...</td>\n",
       "    </tr>\n",
       "    <tr>\n",
       "      <th>95</th>\n",
       "      <td>Whiplash</td>\n",
       "      <td>2014</td>\n",
       "      <td>3300000</td>\n",
       "      <td>13092000</td>\n",
       "      <td>8.5</td>\n",
       "    </tr>\n",
       "    <tr>\n",
       "      <th>96</th>\n",
       "      <td>Before Midnight</td>\n",
       "      <td>2013</td>\n",
       "      <td>3000000</td>\n",
       "      <td>8114507</td>\n",
       "      <td>7.9</td>\n",
       "    </tr>\n",
       "    <tr>\n",
       "      <th>97</th>\n",
       "      <td>Star Wars: Episode VII - The Force Awakens</td>\n",
       "      <td>2015</td>\n",
       "      <td>245000000</td>\n",
       "      <td>936662225</td>\n",
       "      <td>8.1</td>\n",
       "    </tr>\n",
       "    <tr>\n",
       "      <th>98</th>\n",
       "      <td>Harry Potter and the Deathly Hallows: Part I</td>\n",
       "      <td>2010</td>\n",
       "      <td>150000000</td>\n",
       "      <td>296347721</td>\n",
       "      <td>7.7</td>\n",
       "    </tr>\n",
       "    <tr>\n",
       "      <th>99</th>\n",
       "      <td>Tucker and Dale vs Evil</td>\n",
       "      <td>2010</td>\n",
       "      <td>5000000</td>\n",
       "      <td>223838</td>\n",
       "      <td>7.6</td>\n",
       "    </tr>\n",
       "  </tbody>\n",
       "</table>\n",
       "<p>100 rows × 5 columns</p>\n",
       "</div>"
      ],
      "text/plain": [
       "                                           Title  title_year     budget  \\\n",
       "0                                     La La Land        2016   30000000   \n",
       "1                                       Zootopia        2016  150000000   \n",
       "2                                           Lion        2016   12000000   \n",
       "3                                        Arrival        2016   47000000   \n",
       "4                          Manchester by the Sea        2016    9000000   \n",
       "..                                           ...         ...        ...   \n",
       "95                                      Whiplash        2014    3300000   \n",
       "96                               Before Midnight        2013    3000000   \n",
       "97    Star Wars: Episode VII - The Force Awakens        2015  245000000   \n",
       "98  Harry Potter and the Deathly Hallows: Part I        2010  150000000   \n",
       "99                       Tucker and Dale vs Evil        2010    5000000   \n",
       "\n",
       "        Gross  IMDb_rating  \n",
       "0   151101803          8.2  \n",
       "1   341268248          8.1  \n",
       "2    51738905          8.1  \n",
       "3   100546139          8.0  \n",
       "4    47695371          7.9  \n",
       "..        ...          ...  \n",
       "95   13092000          8.5  \n",
       "96    8114507          7.9  \n",
       "97  936662225          8.1  \n",
       "98  296347721          7.7  \n",
       "99     223838          7.6  \n",
       "\n",
       "[100 rows x 5 columns]"
      ]
     },
     "execution_count": 26,
     "metadata": {},
     "output_type": "execute_result"
    }
   ],
   "source": [
    "df_movie = pd.read_csv(\"datasets/Movie+Assignment+Data.csv\", usecols=[\"Title\",\"title_year\",\"IMDb_rating\",\"budget\",\"Gross\"])\n",
    "df_movie"
   ]
  },
  {
   "cell_type": "code",
   "execution_count": 27,
   "id": "c8794279",
   "metadata": {},
   "outputs": [
    {
     "data": {
      "text/html": [
       "<div>\n",
       "<style scoped>\n",
       "    .dataframe tbody tr th:only-of-type {\n",
       "        vertical-align: middle;\n",
       "    }\n",
       "\n",
       "    .dataframe tbody tr th {\n",
       "        vertical-align: top;\n",
       "    }\n",
       "\n",
       "    .dataframe thead th {\n",
       "        text-align: right;\n",
       "    }\n",
       "</style>\n",
       "<table border=\"1\" class=\"dataframe\">\n",
       "  <thead>\n",
       "    <tr style=\"text-align: right;\">\n",
       "      <th></th>\n",
       "      <th>Title</th>\n",
       "      <th>title_year</th>\n",
       "      <th>budget</th>\n",
       "      <th>Gross</th>\n",
       "      <th>IMDb_rating</th>\n",
       "    </tr>\n",
       "  </thead>\n",
       "  <tbody>\n",
       "    <tr>\n",
       "      <th>22</th>\n",
       "      <td>Hugo</td>\n",
       "      <td>2011</td>\n",
       "      <td>170000000</td>\n",
       "      <td>73820094</td>\n",
       "      <td>7.5</td>\n",
       "    </tr>\n",
       "    <tr>\n",
       "      <th>46</th>\n",
       "      <td>Scott Pilgrim vs. the World</td>\n",
       "      <td>2010</td>\n",
       "      <td>60000000</td>\n",
       "      <td>31494270</td>\n",
       "      <td>7.5</td>\n",
       "    </tr>\n",
       "    <tr>\n",
       "      <th>52</th>\n",
       "      <td>Lone Survivor</td>\n",
       "      <td>2013</td>\n",
       "      <td>40000000</td>\n",
       "      <td>125069696</td>\n",
       "      <td>7.5</td>\n",
       "    </tr>\n",
       "    <tr>\n",
       "      <th>6</th>\n",
       "      <td>Doctor Strange</td>\n",
       "      <td>2016</td>\n",
       "      <td>165000000</td>\n",
       "      <td>232641920</td>\n",
       "      <td>7.6</td>\n",
       "    </tr>\n",
       "  </tbody>\n",
       "</table>\n",
       "</div>"
      ],
      "text/plain": [
       "                          Title  title_year     budget      Gross  IMDb_rating\n",
       "22                         Hugo        2011  170000000   73820094          7.5\n",
       "46  Scott Pilgrim vs. the World        2010   60000000   31494270          7.5\n",
       "52                Lone Survivor        2013   40000000  125069696          7.5\n",
       "6                Doctor Strange        2016  165000000  232641920          7.6"
      ]
     },
     "execution_count": 27,
     "metadata": {},
     "output_type": "execute_result"
    }
   ],
   "source": [
    "df_movie.nsmallest(4, \"IMDb_rating\")"
   ]
  },
  {
   "cell_type": "code",
   "execution_count": 28,
   "id": "e25560af",
   "metadata": {},
   "outputs": [
    {
     "data": {
      "text/html": [
       "<div>\n",
       "<style scoped>\n",
       "    .dataframe tbody tr th:only-of-type {\n",
       "        vertical-align: middle;\n",
       "    }\n",
       "\n",
       "    .dataframe tbody tr th {\n",
       "        vertical-align: top;\n",
       "    }\n",
       "\n",
       "    .dataframe thead th {\n",
       "        text-align: right;\n",
       "    }\n",
       "</style>\n",
       "<table border=\"1\" class=\"dataframe\">\n",
       "  <thead>\n",
       "    <tr style=\"text-align: right;\">\n",
       "      <th></th>\n",
       "      <th>Title</th>\n",
       "      <th>title_year</th>\n",
       "      <th>budget</th>\n",
       "      <th>Gross</th>\n",
       "      <th>IMDb_rating</th>\n",
       "    </tr>\n",
       "  </thead>\n",
       "  <tbody>\n",
       "    <tr>\n",
       "      <th>27</th>\n",
       "      <td>Inception</td>\n",
       "      <td>2010</td>\n",
       "      <td>160000000</td>\n",
       "      <td>292568851</td>\n",
       "      <td>8.8</td>\n",
       "    </tr>\n",
       "    <tr>\n",
       "      <th>26</th>\n",
       "      <td>Interstellar</td>\n",
       "      <td>2014</td>\n",
       "      <td>165000000</td>\n",
       "      <td>187991439</td>\n",
       "      <td>8.6</td>\n",
       "    </tr>\n",
       "    <tr>\n",
       "      <th>95</th>\n",
       "      <td>Whiplash</td>\n",
       "      <td>2014</td>\n",
       "      <td>3300000</td>\n",
       "      <td>13092000</td>\n",
       "      <td>8.5</td>\n",
       "    </tr>\n",
       "    <tr>\n",
       "      <th>8</th>\n",
       "      <td>The Dark Knight Rises</td>\n",
       "      <td>2012</td>\n",
       "      <td>250000000</td>\n",
       "      <td>448130642</td>\n",
       "      <td>8.4</td>\n",
       "    </tr>\n",
       "  </tbody>\n",
       "</table>\n",
       "</div>"
      ],
      "text/plain": [
       "                    Title  title_year     budget      Gross  IMDb_rating\n",
       "27              Inception        2010  160000000  292568851          8.8\n",
       "26           Interstellar        2014  165000000  187991439          8.6\n",
       "95               Whiplash        2014    3300000   13092000          8.5\n",
       "8   The Dark Knight Rises        2012  250000000  448130642          8.4"
      ]
     },
     "execution_count": 28,
     "metadata": {},
     "output_type": "execute_result"
    }
   ],
   "source": [
    "df_movie.nlargest(4, \"IMDb_rating\")"
   ]
  },
  {
   "cell_type": "markdown",
   "id": "f08849de",
   "metadata": {},
   "source": [
    "- Usando keep='all' todos os itens duplicados são mantidos"
   ]
  },
  {
   "cell_type": "code",
   "execution_count": 29,
   "id": "3c4c5b6b",
   "metadata": {},
   "outputs": [
    {
     "data": {
      "text/html": [
       "<div>\n",
       "<style scoped>\n",
       "    .dataframe tbody tr th:only-of-type {\n",
       "        vertical-align: middle;\n",
       "    }\n",
       "\n",
       "    .dataframe tbody tr th {\n",
       "        vertical-align: top;\n",
       "    }\n",
       "\n",
       "    .dataframe thead th {\n",
       "        text-align: right;\n",
       "    }\n",
       "</style>\n",
       "<table border=\"1\" class=\"dataframe\">\n",
       "  <thead>\n",
       "    <tr style=\"text-align: right;\">\n",
       "      <th></th>\n",
       "      <th>Title</th>\n",
       "      <th>title_year</th>\n",
       "      <th>budget</th>\n",
       "      <th>Gross</th>\n",
       "      <th>IMDb_rating</th>\n",
       "    </tr>\n",
       "  </thead>\n",
       "  <tbody>\n",
       "    <tr>\n",
       "      <th>22</th>\n",
       "      <td>Hugo</td>\n",
       "      <td>2011</td>\n",
       "      <td>170000000</td>\n",
       "      <td>73820094</td>\n",
       "      <td>7.5</td>\n",
       "    </tr>\n",
       "    <tr>\n",
       "      <th>46</th>\n",
       "      <td>Scott Pilgrim vs. the World</td>\n",
       "      <td>2010</td>\n",
       "      <td>60000000</td>\n",
       "      <td>31494270</td>\n",
       "      <td>7.5</td>\n",
       "    </tr>\n",
       "    <tr>\n",
       "      <th>52</th>\n",
       "      <td>Lone Survivor</td>\n",
       "      <td>2013</td>\n",
       "      <td>40000000</td>\n",
       "      <td>125069696</td>\n",
       "      <td>7.5</td>\n",
       "    </tr>\n",
       "    <tr>\n",
       "      <th>6</th>\n",
       "      <td>Doctor Strange</td>\n",
       "      <td>2016</td>\n",
       "      <td>165000000</td>\n",
       "      <td>232641920</td>\n",
       "      <td>7.6</td>\n",
       "    </tr>\n",
       "    <tr>\n",
       "      <th>21</th>\n",
       "      <td>Dawn of the Planet of the Apes</td>\n",
       "      <td>2014</td>\n",
       "      <td>170000000</td>\n",
       "      <td>208543795</td>\n",
       "      <td>7.6</td>\n",
       "    </tr>\n",
       "    <tr>\n",
       "      <th>32</th>\n",
       "      <td>The Hunger Games: Catching Fire</td>\n",
       "      <td>2013</td>\n",
       "      <td>130000000</td>\n",
       "      <td>424645577</td>\n",
       "      <td>7.6</td>\n",
       "    </tr>\n",
       "    <tr>\n",
       "      <th>37</th>\n",
       "      <td>Rise of the Planet of the Apes</td>\n",
       "      <td>2011</td>\n",
       "      <td>93000000</td>\n",
       "      <td>176740650</td>\n",
       "      <td>7.6</td>\n",
       "    </tr>\n",
       "    <tr>\n",
       "      <th>42</th>\n",
       "      <td>Fury</td>\n",
       "      <td>2014</td>\n",
       "      <td>68000000</td>\n",
       "      <td>85707116</td>\n",
       "      <td>7.6</td>\n",
       "    </tr>\n",
       "    <tr>\n",
       "      <th>44</th>\n",
       "      <td>Les MisÃ©rables</td>\n",
       "      <td>2012</td>\n",
       "      <td>61000000</td>\n",
       "      <td>148775460</td>\n",
       "      <td>7.6</td>\n",
       "    </tr>\n",
       "    <tr>\n",
       "      <th>49</th>\n",
       "      <td>Moneyball</td>\n",
       "      <td>2011</td>\n",
       "      <td>50000000</td>\n",
       "      <td>75605492</td>\n",
       "      <td>7.6</td>\n",
       "    </tr>\n",
       "    <tr>\n",
       "      <th>54</th>\n",
       "      <td>Bridge of Spies</td>\n",
       "      <td>2015</td>\n",
       "      <td>40000000</td>\n",
       "      <td>72306065</td>\n",
       "      <td>7.6</td>\n",
       "    </tr>\n",
       "    <tr>\n",
       "      <th>55</th>\n",
       "      <td>True Grit</td>\n",
       "      <td>2010</td>\n",
       "      <td>38000000</td>\n",
       "      <td>171031347</td>\n",
       "      <td>7.6</td>\n",
       "    </tr>\n",
       "    <tr>\n",
       "      <th>57</th>\n",
       "      <td>The Town</td>\n",
       "      <td>2010</td>\n",
       "      <td>37000000</td>\n",
       "      <td>92173235</td>\n",
       "      <td>7.6</td>\n",
       "    </tr>\n",
       "    <tr>\n",
       "      <th>58</th>\n",
       "      <td>Creed</td>\n",
       "      <td>2015</td>\n",
       "      <td>35000000</td>\n",
       "      <td>109712885</td>\n",
       "      <td>7.6</td>\n",
       "    </tr>\n",
       "    <tr>\n",
       "      <th>60</th>\n",
       "      <td>Sicario</td>\n",
       "      <td>2015</td>\n",
       "      <td>30000000</td>\n",
       "      <td>46875468</td>\n",
       "      <td>7.6</td>\n",
       "    </tr>\n",
       "    <tr>\n",
       "      <th>71</th>\n",
       "      <td>The Book Thief</td>\n",
       "      <td>2013</td>\n",
       "      <td>19000000</td>\n",
       "      <td>21483154</td>\n",
       "      <td>7.6</td>\n",
       "    </tr>\n",
       "    <tr>\n",
       "      <th>73</th>\n",
       "      <td>127 Hours</td>\n",
       "      <td>2010</td>\n",
       "      <td>18000000</td>\n",
       "      <td>18329466</td>\n",
       "      <td>7.6</td>\n",
       "    </tr>\n",
       "    <tr>\n",
       "      <th>86</th>\n",
       "      <td>Philomena</td>\n",
       "      <td>2013</td>\n",
       "      <td>12000000</td>\n",
       "      <td>37707719</td>\n",
       "      <td>7.6</td>\n",
       "    </tr>\n",
       "    <tr>\n",
       "      <th>99</th>\n",
       "      <td>Tucker and Dale vs Evil</td>\n",
       "      <td>2010</td>\n",
       "      <td>5000000</td>\n",
       "      <td>223838</td>\n",
       "      <td>7.6</td>\n",
       "    </tr>\n",
       "  </tbody>\n",
       "</table>\n",
       "</div>"
      ],
      "text/plain": [
       "                              Title  title_year     budget      Gross  \\\n",
       "22                             Hugo        2011  170000000   73820094   \n",
       "46      Scott Pilgrim vs. the World        2010   60000000   31494270   \n",
       "52                    Lone Survivor        2013   40000000  125069696   \n",
       "6                    Doctor Strange        2016  165000000  232641920   \n",
       "21   Dawn of the Planet of the Apes        2014  170000000  208543795   \n",
       "32  The Hunger Games: Catching Fire        2013  130000000  424645577   \n",
       "37   Rise of the Planet of the Apes        2011   93000000  176740650   \n",
       "42                             Fury        2014   68000000   85707116   \n",
       "44                  Les MisÃ©rables        2012   61000000  148775460   \n",
       "49                        Moneyball        2011   50000000   75605492   \n",
       "54                  Bridge of Spies        2015   40000000   72306065   \n",
       "55                        True Grit        2010   38000000  171031347   \n",
       "57                         The Town        2010   37000000   92173235   \n",
       "58                            Creed        2015   35000000  109712885   \n",
       "60                          Sicario        2015   30000000   46875468   \n",
       "71                   The Book Thief        2013   19000000   21483154   \n",
       "73                        127 Hours        2010   18000000   18329466   \n",
       "86                        Philomena        2013   12000000   37707719   \n",
       "99          Tucker and Dale vs Evil        2010    5000000     223838   \n",
       "\n",
       "    IMDb_rating  \n",
       "22          7.5  \n",
       "46          7.5  \n",
       "52          7.5  \n",
       "6           7.6  \n",
       "21          7.6  \n",
       "32          7.6  \n",
       "37          7.6  \n",
       "42          7.6  \n",
       "44          7.6  \n",
       "49          7.6  \n",
       "54          7.6  \n",
       "55          7.6  \n",
       "57          7.6  \n",
       "58          7.6  \n",
       "60          7.6  \n",
       "71          7.6  \n",
       "73          7.6  \n",
       "86          7.6  \n",
       "99          7.6  "
      ]
     },
     "execution_count": 29,
     "metadata": {},
     "output_type": "execute_result"
    }
   ],
   "source": [
    "df_movie.nsmallest(4, \"IMDb_rating\", keep='all')"
   ]
  },
  {
   "cell_type": "code",
   "execution_count": 30,
   "id": "a288d5a4",
   "metadata": {},
   "outputs": [
    {
     "data": {
      "text/html": [
       "<div>\n",
       "<style scoped>\n",
       "    .dataframe tbody tr th:only-of-type {\n",
       "        vertical-align: middle;\n",
       "    }\n",
       "\n",
       "    .dataframe tbody tr th {\n",
       "        vertical-align: top;\n",
       "    }\n",
       "\n",
       "    .dataframe thead th {\n",
       "        text-align: right;\n",
       "    }\n",
       "</style>\n",
       "<table border=\"1\" class=\"dataframe\">\n",
       "  <thead>\n",
       "    <tr style=\"text-align: right;\">\n",
       "      <th></th>\n",
       "      <th>Title</th>\n",
       "      <th>title_year</th>\n",
       "      <th>budget</th>\n",
       "      <th>Gross</th>\n",
       "      <th>IMDb_rating</th>\n",
       "    </tr>\n",
       "  </thead>\n",
       "  <tbody>\n",
       "    <tr>\n",
       "      <th>27</th>\n",
       "      <td>Inception</td>\n",
       "      <td>2010</td>\n",
       "      <td>160000000</td>\n",
       "      <td>292568851</td>\n",
       "      <td>8.8</td>\n",
       "    </tr>\n",
       "    <tr>\n",
       "      <th>26</th>\n",
       "      <td>Interstellar</td>\n",
       "      <td>2014</td>\n",
       "      <td>165000000</td>\n",
       "      <td>187991439</td>\n",
       "      <td>8.6</td>\n",
       "    </tr>\n",
       "    <tr>\n",
       "      <th>95</th>\n",
       "      <td>Whiplash</td>\n",
       "      <td>2014</td>\n",
       "      <td>3300000</td>\n",
       "      <td>13092000</td>\n",
       "      <td>8.5</td>\n",
       "    </tr>\n",
       "    <tr>\n",
       "      <th>8</th>\n",
       "      <td>The Dark Knight Rises</td>\n",
       "      <td>2012</td>\n",
       "      <td>250000000</td>\n",
       "      <td>448130642</td>\n",
       "      <td>8.4</td>\n",
       "    </tr>\n",
       "    <tr>\n",
       "      <th>35</th>\n",
       "      <td>Django Unchained</td>\n",
       "      <td>2012</td>\n",
       "      <td>100000000</td>\n",
       "      <td>162804648</td>\n",
       "      <td>8.4</td>\n",
       "    </tr>\n",
       "  </tbody>\n",
       "</table>\n",
       "</div>"
      ],
      "text/plain": [
       "                    Title  title_year     budget      Gross  IMDb_rating\n",
       "27              Inception        2010  160000000  292568851          8.8\n",
       "26           Interstellar        2014  165000000  187991439          8.6\n",
       "95               Whiplash        2014    3300000   13092000          8.5\n",
       "8   The Dark Knight Rises        2012  250000000  448130642          8.4\n",
       "35       Django Unchained        2012  100000000  162804648          8.4"
      ]
     },
     "execution_count": 30,
     "metadata": {},
     "output_type": "execute_result"
    }
   ],
   "source": [
    "df_movie.nlargest(4, \"IMDb_rating\", keep='all')"
   ]
  },
  {
   "cell_type": "markdown",
   "id": "6a8f3f5f",
   "metadata": {},
   "source": [
    "- É possível especificar mais de uma coluna como critério de ordenação"
   ]
  },
  {
   "cell_type": "code",
   "execution_count": 31,
   "id": "5f902a01",
   "metadata": {},
   "outputs": [
    {
     "data": {
      "text/html": [
       "<div>\n",
       "<style scoped>\n",
       "    .dataframe tbody tr th:only-of-type {\n",
       "        vertical-align: middle;\n",
       "    }\n",
       "\n",
       "    .dataframe tbody tr th {\n",
       "        vertical-align: top;\n",
       "    }\n",
       "\n",
       "    .dataframe thead th {\n",
       "        text-align: right;\n",
       "    }\n",
       "</style>\n",
       "<table border=\"1\" class=\"dataframe\">\n",
       "  <thead>\n",
       "    <tr style=\"text-align: right;\">\n",
       "      <th></th>\n",
       "      <th>Title</th>\n",
       "      <th>title_year</th>\n",
       "      <th>budget</th>\n",
       "      <th>Gross</th>\n",
       "      <th>IMDb_rating</th>\n",
       "    </tr>\n",
       "  </thead>\n",
       "  <tbody>\n",
       "    <tr>\n",
       "      <th>46</th>\n",
       "      <td>Scott Pilgrim vs. the World</td>\n",
       "      <td>2010</td>\n",
       "      <td>60000000</td>\n",
       "      <td>31494270</td>\n",
       "      <td>7.5</td>\n",
       "    </tr>\n",
       "    <tr>\n",
       "      <th>22</th>\n",
       "      <td>Hugo</td>\n",
       "      <td>2011</td>\n",
       "      <td>170000000</td>\n",
       "      <td>73820094</td>\n",
       "      <td>7.5</td>\n",
       "    </tr>\n",
       "    <tr>\n",
       "      <th>52</th>\n",
       "      <td>Lone Survivor</td>\n",
       "      <td>2013</td>\n",
       "      <td>40000000</td>\n",
       "      <td>125069696</td>\n",
       "      <td>7.5</td>\n",
       "    </tr>\n",
       "    <tr>\n",
       "      <th>99</th>\n",
       "      <td>Tucker and Dale vs Evil</td>\n",
       "      <td>2010</td>\n",
       "      <td>5000000</td>\n",
       "      <td>223838</td>\n",
       "      <td>7.6</td>\n",
       "    </tr>\n",
       "  </tbody>\n",
       "</table>\n",
       "</div>"
      ],
      "text/plain": [
       "                          Title  title_year     budget      Gross  IMDb_rating\n",
       "46  Scott Pilgrim vs. the World        2010   60000000   31494270          7.5\n",
       "22                         Hugo        2011  170000000   73820094          7.5\n",
       "52                Lone Survivor        2013   40000000  125069696          7.5\n",
       "99      Tucker and Dale vs Evil        2010    5000000     223838          7.6"
      ]
     },
     "execution_count": 31,
     "metadata": {},
     "output_type": "execute_result"
    }
   ],
   "source": [
    "df_movie.nsmallest(4, [\"IMDb_rating\", \"Gross\"])"
   ]
  },
  {
   "cell_type": "code",
   "execution_count": 32,
   "id": "5a942b54",
   "metadata": {},
   "outputs": [
    {
     "data": {
      "text/html": [
       "<div>\n",
       "<style scoped>\n",
       "    .dataframe tbody tr th:only-of-type {\n",
       "        vertical-align: middle;\n",
       "    }\n",
       "\n",
       "    .dataframe tbody tr th {\n",
       "        vertical-align: top;\n",
       "    }\n",
       "\n",
       "    .dataframe thead th {\n",
       "        text-align: right;\n",
       "    }\n",
       "</style>\n",
       "<table border=\"1\" class=\"dataframe\">\n",
       "  <thead>\n",
       "    <tr style=\"text-align: right;\">\n",
       "      <th></th>\n",
       "      <th>Title</th>\n",
       "      <th>title_year</th>\n",
       "      <th>budget</th>\n",
       "      <th>Gross</th>\n",
       "      <th>IMDb_rating</th>\n",
       "    </tr>\n",
       "  </thead>\n",
       "  <tbody>\n",
       "    <tr>\n",
       "      <th>7</th>\n",
       "      <td>Tangled</td>\n",
       "      <td>2010</td>\n",
       "      <td>260000000</td>\n",
       "      <td>200807262</td>\n",
       "      <td>7.8</td>\n",
       "    </tr>\n",
       "    <tr>\n",
       "      <th>8</th>\n",
       "      <td>The Dark Knight Rises</td>\n",
       "      <td>2012</td>\n",
       "      <td>250000000</td>\n",
       "      <td>448130642</td>\n",
       "      <td>8.4</td>\n",
       "    </tr>\n",
       "    <tr>\n",
       "      <th>9</th>\n",
       "      <td>Captain America: Civil War</td>\n",
       "      <td>2016</td>\n",
       "      <td>250000000</td>\n",
       "      <td>407197282</td>\n",
       "      <td>7.9</td>\n",
       "    </tr>\n",
       "    <tr>\n",
       "      <th>97</th>\n",
       "      <td>Star Wars: Episode VII - The Force Awakens</td>\n",
       "      <td>2015</td>\n",
       "      <td>245000000</td>\n",
       "      <td>936662225</td>\n",
       "      <td>8.1</td>\n",
       "    </tr>\n",
       "  </tbody>\n",
       "</table>\n",
       "</div>"
      ],
      "text/plain": [
       "                                         Title  title_year     budget  \\\n",
       "7                                      Tangled        2010  260000000   \n",
       "8                        The Dark Knight Rises        2012  250000000   \n",
       "9                   Captain America: Civil War        2016  250000000   \n",
       "97  Star Wars: Episode VII - The Force Awakens        2015  245000000   \n",
       "\n",
       "        Gross  IMDb_rating  \n",
       "7   200807262          7.8  \n",
       "8   448130642          8.4  \n",
       "9   407197282          7.9  \n",
       "97  936662225          8.1  "
      ]
     },
     "execution_count": 32,
     "metadata": {},
     "output_type": "execute_result"
    }
   ],
   "source": [
    "df_movie.nlargest(4, [\"budget\", \"Gross\"])"
   ]
  },
  {
   "cell_type": "markdown",
   "id": "fa3008e8",
   "metadata": {},
   "source": [
    "- O método rank permite ranquear o dataset através dos seus dados numéricos"
   ]
  },
  {
   "cell_type": "code",
   "execution_count": 33,
   "id": "32c8aeda",
   "metadata": {},
   "outputs": [
    {
     "data": {
      "text/html": [
       "<div>\n",
       "<style scoped>\n",
       "    .dataframe tbody tr th:only-of-type {\n",
       "        vertical-align: middle;\n",
       "    }\n",
       "\n",
       "    .dataframe tbody tr th {\n",
       "        vertical-align: top;\n",
       "    }\n",
       "\n",
       "    .dataframe thead th {\n",
       "        text-align: right;\n",
       "    }\n",
       "</style>\n",
       "<table border=\"1\" class=\"dataframe\">\n",
       "  <thead>\n",
       "    <tr style=\"text-align: right;\">\n",
       "      <th></th>\n",
       "      <th>Animal</th>\n",
       "      <th>Number_legs</th>\n",
       "    </tr>\n",
       "  </thead>\n",
       "  <tbody>\n",
       "    <tr>\n",
       "      <th>0</th>\n",
       "      <td>cat</td>\n",
       "      <td>4.0</td>\n",
       "    </tr>\n",
       "    <tr>\n",
       "      <th>1</th>\n",
       "      <td>penguin</td>\n",
       "      <td>2.0</td>\n",
       "    </tr>\n",
       "    <tr>\n",
       "      <th>2</th>\n",
       "      <td>dog</td>\n",
       "      <td>4.0</td>\n",
       "    </tr>\n",
       "    <tr>\n",
       "      <th>3</th>\n",
       "      <td>spider</td>\n",
       "      <td>8.0</td>\n",
       "    </tr>\n",
       "    <tr>\n",
       "      <th>4</th>\n",
       "      <td>snake</td>\n",
       "      <td>NaN</td>\n",
       "    </tr>\n",
       "  </tbody>\n",
       "</table>\n",
       "</div>"
      ],
      "text/plain": [
       "    Animal  Number_legs\n",
       "0      cat          4.0\n",
       "1  penguin          2.0\n",
       "2      dog          4.0\n",
       "3   spider          8.0\n",
       "4    snake          NaN"
      ]
     },
     "execution_count": 33,
     "metadata": {},
     "output_type": "execute_result"
    }
   ],
   "source": [
    "df_aux = pd.DataFrame(data={'Animal': ['cat', 'penguin', 'dog',\n",
    "                                   'spider', 'snake'],\n",
    "                        'Number_legs': [4, 2, 4, 8, np.nan]})\n",
    "df_aux"
   ]
  },
  {
   "cell_type": "markdown",
   "id": "0c34df39",
   "metadata": {},
   "source": [
    "- O parâmetro method permite desempatar o ranqueamento pela:\n",
    "    - média do grupo, usando o argumento average\n",
    "    - valor mais baixo do grupo, usando o argumento min\n",
    "    - valor mais alto do grupo, usando o argumento max\n",
    "    - atribuição da ordem que aparece no array, usando o argumento first\n",
    "    - valor mais baixo do grupo, mas a próxima posição é aumentado em 1, usando o argumento dense"
   ]
  },
  {
   "cell_type": "code",
   "execution_count": 34,
   "id": "145bea5e",
   "metadata": {},
   "outputs": [
    {
     "data": {
      "text/html": [
       "<div>\n",
       "<style scoped>\n",
       "    .dataframe tbody tr th:only-of-type {\n",
       "        vertical-align: middle;\n",
       "    }\n",
       "\n",
       "    .dataframe tbody tr th {\n",
       "        vertical-align: top;\n",
       "    }\n",
       "\n",
       "    .dataframe thead th {\n",
       "        text-align: right;\n",
       "    }\n",
       "</style>\n",
       "<table border=\"1\" class=\"dataframe\">\n",
       "  <thead>\n",
       "    <tr style=\"text-align: right;\">\n",
       "      <th></th>\n",
       "      <th>Animal</th>\n",
       "      <th>Number_legs</th>\n",
       "      <th>average_rank</th>\n",
       "      <th>min_rank</th>\n",
       "      <th>max_rank</th>\n",
       "      <th>first_rank</th>\n",
       "      <th>dense_rank</th>\n",
       "    </tr>\n",
       "  </thead>\n",
       "  <tbody>\n",
       "    <tr>\n",
       "      <th>0</th>\n",
       "      <td>cat</td>\n",
       "      <td>4.0</td>\n",
       "      <td>2.5</td>\n",
       "      <td>2.0</td>\n",
       "      <td>3.0</td>\n",
       "      <td>2.0</td>\n",
       "      <td>2.0</td>\n",
       "    </tr>\n",
       "    <tr>\n",
       "      <th>1</th>\n",
       "      <td>penguin</td>\n",
       "      <td>2.0</td>\n",
       "      <td>1.0</td>\n",
       "      <td>1.0</td>\n",
       "      <td>1.0</td>\n",
       "      <td>1.0</td>\n",
       "      <td>1.0</td>\n",
       "    </tr>\n",
       "    <tr>\n",
       "      <th>2</th>\n",
       "      <td>dog</td>\n",
       "      <td>4.0</td>\n",
       "      <td>2.5</td>\n",
       "      <td>2.0</td>\n",
       "      <td>3.0</td>\n",
       "      <td>3.0</td>\n",
       "      <td>2.0</td>\n",
       "    </tr>\n",
       "    <tr>\n",
       "      <th>3</th>\n",
       "      <td>spider</td>\n",
       "      <td>8.0</td>\n",
       "      <td>4.0</td>\n",
       "      <td>4.0</td>\n",
       "      <td>4.0</td>\n",
       "      <td>4.0</td>\n",
       "      <td>3.0</td>\n",
       "    </tr>\n",
       "    <tr>\n",
       "      <th>4</th>\n",
       "      <td>snake</td>\n",
       "      <td>NaN</td>\n",
       "      <td>NaN</td>\n",
       "      <td>NaN</td>\n",
       "      <td>NaN</td>\n",
       "      <td>NaN</td>\n",
       "      <td>NaN</td>\n",
       "    </tr>\n",
       "  </tbody>\n",
       "</table>\n",
       "</div>"
      ],
      "text/plain": [
       "    Animal  Number_legs  average_rank  min_rank  max_rank  first_rank  \\\n",
       "0      cat          4.0           2.5       2.0       3.0         2.0   \n",
       "1  penguin          2.0           1.0       1.0       1.0         1.0   \n",
       "2      dog          4.0           2.5       2.0       3.0         3.0   \n",
       "3   spider          8.0           4.0       4.0       4.0         4.0   \n",
       "4    snake          NaN           NaN       NaN       NaN         NaN   \n",
       "\n",
       "   dense_rank  \n",
       "0         2.0  \n",
       "1         1.0  \n",
       "2         2.0  \n",
       "3         3.0  \n",
       "4         NaN  "
      ]
     },
     "execution_count": 34,
     "metadata": {},
     "output_type": "execute_result"
    }
   ],
   "source": [
    "df_aux['average_rank'] = df_aux['Number_legs'].rank(method='average') \n",
    "df_aux['min_rank'] = df_aux['Number_legs'].rank(method='min')\n",
    "df_aux['max_rank'] = df_aux['Number_legs'].rank(method='max')\n",
    "df_aux['first_rank'] = df_aux['Number_legs'].rank(method='first')\n",
    "df_aux['dense_rank'] = df_aux['Number_legs'].rank(method='dense')\n",
    "df_aux"
   ]
  },
  {
   "cell_type": "markdown",
   "id": "18c8c0dc",
   "metadata": {},
   "source": [
    "- O parâmetro na_option define como o ranqueamento lida com os valores NaN pela:\n",
    "    - manutenção do NaN como NaN, usando o argumento keep\n",
    "    - atribuição do valor mais baixo, usando o argumento top\n",
    "    - atribuição do valor mais alto, usando o argumento bottom"
   ]
  },
  {
   "cell_type": "code",
   "execution_count": 35,
   "id": "acf981fd",
   "metadata": {},
   "outputs": [
    {
     "data": {
      "text/html": [
       "<div>\n",
       "<style scoped>\n",
       "    .dataframe tbody tr th:only-of-type {\n",
       "        vertical-align: middle;\n",
       "    }\n",
       "\n",
       "    .dataframe tbody tr th {\n",
       "        vertical-align: top;\n",
       "    }\n",
       "\n",
       "    .dataframe thead th {\n",
       "        text-align: right;\n",
       "    }\n",
       "</style>\n",
       "<table border=\"1\" class=\"dataframe\">\n",
       "  <thead>\n",
       "    <tr style=\"text-align: right;\">\n",
       "      <th></th>\n",
       "      <th>Animal</th>\n",
       "      <th>Number_legs</th>\n",
       "      <th>average_rank</th>\n",
       "      <th>min_rank</th>\n",
       "      <th>max_rank</th>\n",
       "      <th>first_rank</th>\n",
       "      <th>dense_rank</th>\n",
       "      <th>NA_keep</th>\n",
       "      <th>NA_top</th>\n",
       "      <th>NA_bottom</th>\n",
       "    </tr>\n",
       "  </thead>\n",
       "  <tbody>\n",
       "    <tr>\n",
       "      <th>0</th>\n",
       "      <td>cat</td>\n",
       "      <td>4.0</td>\n",
       "      <td>2.5</td>\n",
       "      <td>2.0</td>\n",
       "      <td>3.0</td>\n",
       "      <td>2.0</td>\n",
       "      <td>2.0</td>\n",
       "      <td>2.5</td>\n",
       "      <td>3.5</td>\n",
       "      <td>2.5</td>\n",
       "    </tr>\n",
       "    <tr>\n",
       "      <th>1</th>\n",
       "      <td>penguin</td>\n",
       "      <td>2.0</td>\n",
       "      <td>1.0</td>\n",
       "      <td>1.0</td>\n",
       "      <td>1.0</td>\n",
       "      <td>1.0</td>\n",
       "      <td>1.0</td>\n",
       "      <td>1.0</td>\n",
       "      <td>2.0</td>\n",
       "      <td>1.0</td>\n",
       "    </tr>\n",
       "    <tr>\n",
       "      <th>2</th>\n",
       "      <td>dog</td>\n",
       "      <td>4.0</td>\n",
       "      <td>2.5</td>\n",
       "      <td>2.0</td>\n",
       "      <td>3.0</td>\n",
       "      <td>3.0</td>\n",
       "      <td>2.0</td>\n",
       "      <td>2.5</td>\n",
       "      <td>3.5</td>\n",
       "      <td>2.5</td>\n",
       "    </tr>\n",
       "    <tr>\n",
       "      <th>3</th>\n",
       "      <td>spider</td>\n",
       "      <td>8.0</td>\n",
       "      <td>4.0</td>\n",
       "      <td>4.0</td>\n",
       "      <td>4.0</td>\n",
       "      <td>4.0</td>\n",
       "      <td>3.0</td>\n",
       "      <td>4.0</td>\n",
       "      <td>5.0</td>\n",
       "      <td>4.0</td>\n",
       "    </tr>\n",
       "    <tr>\n",
       "      <th>4</th>\n",
       "      <td>snake</td>\n",
       "      <td>NaN</td>\n",
       "      <td>NaN</td>\n",
       "      <td>NaN</td>\n",
       "      <td>NaN</td>\n",
       "      <td>NaN</td>\n",
       "      <td>NaN</td>\n",
       "      <td>NaN</td>\n",
       "      <td>1.0</td>\n",
       "      <td>5.0</td>\n",
       "    </tr>\n",
       "  </tbody>\n",
       "</table>\n",
       "</div>"
      ],
      "text/plain": [
       "    Animal  Number_legs  average_rank  min_rank  max_rank  first_rank  \\\n",
       "0      cat          4.0           2.5       2.0       3.0         2.0   \n",
       "1  penguin          2.0           1.0       1.0       1.0         1.0   \n",
       "2      dog          4.0           2.5       2.0       3.0         3.0   \n",
       "3   spider          8.0           4.0       4.0       4.0         4.0   \n",
       "4    snake          NaN           NaN       NaN       NaN         NaN   \n",
       "\n",
       "   dense_rank  NA_keep  NA_top  NA_bottom  \n",
       "0         2.0      2.5     3.5        2.5  \n",
       "1         1.0      1.0     2.0        1.0  \n",
       "2         2.0      2.5     3.5        2.5  \n",
       "3         3.0      4.0     5.0        4.0  \n",
       "4         NaN      NaN     1.0        5.0  "
      ]
     },
     "execution_count": 35,
     "metadata": {},
     "output_type": "execute_result"
    }
   ],
   "source": [
    "df_aux['NA_keep'] = df_aux['Number_legs'].rank(na_option='keep')\n",
    "df_aux['NA_top'] = df_aux['Number_legs'].rank(na_option='top')\n",
    "df_aux['NA_bottom'] = df_aux['Number_legs'].rank(na_option='bottom')\n",
    "df_aux"
   ]
  },
  {
   "cell_type": "markdown",
   "id": "8e410d26",
   "metadata": {},
   "source": [
    "\n",
    "- O parâmetro pct exibe o ranqueamento em forma percentual"
   ]
  },
  {
   "cell_type": "code",
   "execution_count": 36,
   "id": "8aaace6b",
   "metadata": {},
   "outputs": [
    {
     "data": {
      "text/html": [
       "<div>\n",
       "<style scoped>\n",
       "    .dataframe tbody tr th:only-of-type {\n",
       "        vertical-align: middle;\n",
       "    }\n",
       "\n",
       "    .dataframe tbody tr th {\n",
       "        vertical-align: top;\n",
       "    }\n",
       "\n",
       "    .dataframe thead th {\n",
       "        text-align: right;\n",
       "    }\n",
       "</style>\n",
       "<table border=\"1\" class=\"dataframe\">\n",
       "  <thead>\n",
       "    <tr style=\"text-align: right;\">\n",
       "      <th></th>\n",
       "      <th>Animal</th>\n",
       "      <th>Number_legs</th>\n",
       "      <th>average_rank</th>\n",
       "      <th>min_rank</th>\n",
       "      <th>max_rank</th>\n",
       "      <th>first_rank</th>\n",
       "      <th>dense_rank</th>\n",
       "      <th>NA_keep</th>\n",
       "      <th>NA_top</th>\n",
       "      <th>NA_bottom</th>\n",
       "      <th>pct_rank</th>\n",
       "    </tr>\n",
       "  </thead>\n",
       "  <tbody>\n",
       "    <tr>\n",
       "      <th>0</th>\n",
       "      <td>cat</td>\n",
       "      <td>4.0</td>\n",
       "      <td>2.5</td>\n",
       "      <td>2.0</td>\n",
       "      <td>3.0</td>\n",
       "      <td>2.0</td>\n",
       "      <td>2.0</td>\n",
       "      <td>2.5</td>\n",
       "      <td>3.5</td>\n",
       "      <td>2.5</td>\n",
       "      <td>0.625</td>\n",
       "    </tr>\n",
       "    <tr>\n",
       "      <th>1</th>\n",
       "      <td>penguin</td>\n",
       "      <td>2.0</td>\n",
       "      <td>1.0</td>\n",
       "      <td>1.0</td>\n",
       "      <td>1.0</td>\n",
       "      <td>1.0</td>\n",
       "      <td>1.0</td>\n",
       "      <td>1.0</td>\n",
       "      <td>2.0</td>\n",
       "      <td>1.0</td>\n",
       "      <td>0.250</td>\n",
       "    </tr>\n",
       "    <tr>\n",
       "      <th>2</th>\n",
       "      <td>dog</td>\n",
       "      <td>4.0</td>\n",
       "      <td>2.5</td>\n",
       "      <td>2.0</td>\n",
       "      <td>3.0</td>\n",
       "      <td>3.0</td>\n",
       "      <td>2.0</td>\n",
       "      <td>2.5</td>\n",
       "      <td>3.5</td>\n",
       "      <td>2.5</td>\n",
       "      <td>0.625</td>\n",
       "    </tr>\n",
       "    <tr>\n",
       "      <th>3</th>\n",
       "      <td>spider</td>\n",
       "      <td>8.0</td>\n",
       "      <td>4.0</td>\n",
       "      <td>4.0</td>\n",
       "      <td>4.0</td>\n",
       "      <td>4.0</td>\n",
       "      <td>3.0</td>\n",
       "      <td>4.0</td>\n",
       "      <td>5.0</td>\n",
       "      <td>4.0</td>\n",
       "      <td>1.000</td>\n",
       "    </tr>\n",
       "    <tr>\n",
       "      <th>4</th>\n",
       "      <td>snake</td>\n",
       "      <td>NaN</td>\n",
       "      <td>NaN</td>\n",
       "      <td>NaN</td>\n",
       "      <td>NaN</td>\n",
       "      <td>NaN</td>\n",
       "      <td>NaN</td>\n",
       "      <td>NaN</td>\n",
       "      <td>1.0</td>\n",
       "      <td>5.0</td>\n",
       "      <td>NaN</td>\n",
       "    </tr>\n",
       "  </tbody>\n",
       "</table>\n",
       "</div>"
      ],
      "text/plain": [
       "    Animal  Number_legs  average_rank  min_rank  max_rank  first_rank  \\\n",
       "0      cat          4.0           2.5       2.0       3.0         2.0   \n",
       "1  penguin          2.0           1.0       1.0       1.0         1.0   \n",
       "2      dog          4.0           2.5       2.0       3.0         3.0   \n",
       "3   spider          8.0           4.0       4.0       4.0         4.0   \n",
       "4    snake          NaN           NaN       NaN       NaN         NaN   \n",
       "\n",
       "   dense_rank  NA_keep  NA_top  NA_bottom  pct_rank  \n",
       "0         2.0      2.5     3.5        2.5     0.625  \n",
       "1         1.0      1.0     2.0        1.0     0.250  \n",
       "2         2.0      2.5     3.5        2.5     0.625  \n",
       "3         3.0      4.0     5.0        4.0     1.000  \n",
       "4         NaN      NaN     1.0        5.0       NaN  "
      ]
     },
     "execution_count": 36,
     "metadata": {},
     "output_type": "execute_result"
    }
   ],
   "source": [
    "df_aux['pct_rank'] = df_aux['Number_legs'].rank(pct=True)\n",
    "df_aux"
   ]
  }
 ],
 "metadata": {
  "hide_input": false,
  "kernelspec": {
   "display_name": "Python 3",
   "language": "python",
   "name": "python3"
  },
  "language_info": {
   "codemirror_mode": {
    "name": "ipython",
    "version": 3
   },
   "file_extension": ".py",
   "mimetype": "text/x-python",
   "name": "python",
   "nbconvert_exporter": "python",
   "pygments_lexer": "ipython3",
   "version": "3.8.8"
  },
  "vscode": {
   "interpreter": {
    "hash": "4ef1bb06cfdb40804b9995cc70859f43ff54c1a5223e7f7279b6762f9929c1e2"
   }
  }
 },
 "nbformat": 4,
 "nbformat_minor": 5
}
