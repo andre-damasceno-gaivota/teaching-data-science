{
 "cells": [
  {
   "cell_type": "markdown",
   "id": "702082cc",
   "metadata": {},
   "source": [
    "## <font color=green> Praticando: Analisando o Dataset do Titanic"
   ]
  },
  {
   "cell_type": "code",
   "execution_count": 1,
   "id": "a0560f68",
   "metadata": {},
   "outputs": [],
   "source": [
    "import pandas as pd\n",
    "import numpy as np\n",
    "import json\n",
    "import re"
   ]
  },
  {
   "cell_type": "code",
   "execution_count": 2,
   "id": "35d5e420",
   "metadata": {},
   "outputs": [],
   "source": [
    "%config Completer.use_jedi = False"
   ]
  },
  {
   "cell_type": "markdown",
   "id": "449aecf2",
   "metadata": {},
   "source": [
    "### Carregando Dataset"
   ]
  },
  {
   "cell_type": "code",
   "execution_count": 3,
   "id": "9df8de49",
   "metadata": {},
   "outputs": [
    {
     "ename": "FileNotFoundError",
     "evalue": "[Errno 2] No such file or directory: 'titanic.csv'",
     "output_type": "error",
     "traceback": [
      "\u001b[0;31m---------------------------------------------------------------------------\u001b[0m",
      "\u001b[0;31mFileNotFoundError\u001b[0m                         Traceback (most recent call last)",
      "\u001b[0;32m<ipython-input-3-4a7fccbda882>\u001b[0m in \u001b[0;36m<module>\u001b[0;34m\u001b[0m\n\u001b[0;32m----> 1\u001b[0;31m \u001b[0mdf_titanic\u001b[0m \u001b[0;34m=\u001b[0m \u001b[0mpd\u001b[0m\u001b[0;34m.\u001b[0m\u001b[0mread_csv\u001b[0m\u001b[0;34m(\u001b[0m\u001b[0;34m'titanic.csv'\u001b[0m\u001b[0;34m)\u001b[0m\u001b[0;34m\u001b[0m\u001b[0;34m\u001b[0m\u001b[0m\n\u001b[0m\u001b[1;32m      2\u001b[0m \u001b[0mdf_titanic\u001b[0m\u001b[0;34m.\u001b[0m\u001b[0mshape\u001b[0m\u001b[0;34m\u001b[0m\u001b[0;34m\u001b[0m\u001b[0m\n",
      "\u001b[0;32m~/anaconda3/lib/python3.8/site-packages/pandas/io/parsers.py\u001b[0m in \u001b[0;36mread_csv\u001b[0;34m(filepath_or_buffer, sep, delimiter, header, names, index_col, usecols, squeeze, prefix, mangle_dupe_cols, dtype, engine, converters, true_values, false_values, skipinitialspace, skiprows, skipfooter, nrows, na_values, keep_default_na, na_filter, verbose, skip_blank_lines, parse_dates, infer_datetime_format, keep_date_col, date_parser, dayfirst, cache_dates, iterator, chunksize, compression, thousands, decimal, lineterminator, quotechar, quoting, doublequote, escapechar, comment, encoding, dialect, error_bad_lines, warn_bad_lines, delim_whitespace, low_memory, memory_map, float_precision, storage_options)\u001b[0m\n\u001b[1;32m    608\u001b[0m     \u001b[0mkwds\u001b[0m\u001b[0;34m.\u001b[0m\u001b[0mupdate\u001b[0m\u001b[0;34m(\u001b[0m\u001b[0mkwds_defaults\u001b[0m\u001b[0;34m)\u001b[0m\u001b[0;34m\u001b[0m\u001b[0;34m\u001b[0m\u001b[0m\n\u001b[1;32m    609\u001b[0m \u001b[0;34m\u001b[0m\u001b[0m\n\u001b[0;32m--> 610\u001b[0;31m     \u001b[0;32mreturn\u001b[0m \u001b[0m_read\u001b[0m\u001b[0;34m(\u001b[0m\u001b[0mfilepath_or_buffer\u001b[0m\u001b[0;34m,\u001b[0m \u001b[0mkwds\u001b[0m\u001b[0;34m)\u001b[0m\u001b[0;34m\u001b[0m\u001b[0;34m\u001b[0m\u001b[0m\n\u001b[0m\u001b[1;32m    611\u001b[0m \u001b[0;34m\u001b[0m\u001b[0m\n\u001b[1;32m    612\u001b[0m \u001b[0;34m\u001b[0m\u001b[0m\n",
      "\u001b[0;32m~/anaconda3/lib/python3.8/site-packages/pandas/io/parsers.py\u001b[0m in \u001b[0;36m_read\u001b[0;34m(filepath_or_buffer, kwds)\u001b[0m\n\u001b[1;32m    460\u001b[0m \u001b[0;34m\u001b[0m\u001b[0m\n\u001b[1;32m    461\u001b[0m     \u001b[0;31m# Create the parser.\u001b[0m\u001b[0;34m\u001b[0m\u001b[0;34m\u001b[0m\u001b[0;34m\u001b[0m\u001b[0m\n\u001b[0;32m--> 462\u001b[0;31m     \u001b[0mparser\u001b[0m \u001b[0;34m=\u001b[0m \u001b[0mTextFileReader\u001b[0m\u001b[0;34m(\u001b[0m\u001b[0mfilepath_or_buffer\u001b[0m\u001b[0;34m,\u001b[0m \u001b[0;34m**\u001b[0m\u001b[0mkwds\u001b[0m\u001b[0;34m)\u001b[0m\u001b[0;34m\u001b[0m\u001b[0;34m\u001b[0m\u001b[0m\n\u001b[0m\u001b[1;32m    463\u001b[0m \u001b[0;34m\u001b[0m\u001b[0m\n\u001b[1;32m    464\u001b[0m     \u001b[0;32mif\u001b[0m \u001b[0mchunksize\u001b[0m \u001b[0;32mor\u001b[0m \u001b[0miterator\u001b[0m\u001b[0;34m:\u001b[0m\u001b[0;34m\u001b[0m\u001b[0;34m\u001b[0m\u001b[0m\n",
      "\u001b[0;32m~/anaconda3/lib/python3.8/site-packages/pandas/io/parsers.py\u001b[0m in \u001b[0;36m__init__\u001b[0;34m(self, f, engine, **kwds)\u001b[0m\n\u001b[1;32m    817\u001b[0m             \u001b[0mself\u001b[0m\u001b[0;34m.\u001b[0m\u001b[0moptions\u001b[0m\u001b[0;34m[\u001b[0m\u001b[0;34m\"has_index_names\"\u001b[0m\u001b[0;34m]\u001b[0m \u001b[0;34m=\u001b[0m \u001b[0mkwds\u001b[0m\u001b[0;34m[\u001b[0m\u001b[0;34m\"has_index_names\"\u001b[0m\u001b[0;34m]\u001b[0m\u001b[0;34m\u001b[0m\u001b[0;34m\u001b[0m\u001b[0m\n\u001b[1;32m    818\u001b[0m \u001b[0;34m\u001b[0m\u001b[0m\n\u001b[0;32m--> 819\u001b[0;31m         \u001b[0mself\u001b[0m\u001b[0;34m.\u001b[0m\u001b[0m_engine\u001b[0m \u001b[0;34m=\u001b[0m \u001b[0mself\u001b[0m\u001b[0;34m.\u001b[0m\u001b[0m_make_engine\u001b[0m\u001b[0;34m(\u001b[0m\u001b[0mself\u001b[0m\u001b[0;34m.\u001b[0m\u001b[0mengine\u001b[0m\u001b[0;34m)\u001b[0m\u001b[0;34m\u001b[0m\u001b[0;34m\u001b[0m\u001b[0m\n\u001b[0m\u001b[1;32m    820\u001b[0m \u001b[0;34m\u001b[0m\u001b[0m\n\u001b[1;32m    821\u001b[0m     \u001b[0;32mdef\u001b[0m \u001b[0mclose\u001b[0m\u001b[0;34m(\u001b[0m\u001b[0mself\u001b[0m\u001b[0;34m)\u001b[0m\u001b[0;34m:\u001b[0m\u001b[0;34m\u001b[0m\u001b[0;34m\u001b[0m\u001b[0m\n",
      "\u001b[0;32m~/anaconda3/lib/python3.8/site-packages/pandas/io/parsers.py\u001b[0m in \u001b[0;36m_make_engine\u001b[0;34m(self, engine)\u001b[0m\n\u001b[1;32m   1048\u001b[0m             )\n\u001b[1;32m   1049\u001b[0m         \u001b[0;31m# error: Too many arguments for \"ParserBase\"\u001b[0m\u001b[0;34m\u001b[0m\u001b[0;34m\u001b[0m\u001b[0;34m\u001b[0m\u001b[0m\n\u001b[0;32m-> 1050\u001b[0;31m         \u001b[0;32mreturn\u001b[0m \u001b[0mmapping\u001b[0m\u001b[0;34m[\u001b[0m\u001b[0mengine\u001b[0m\u001b[0;34m]\u001b[0m\u001b[0;34m(\u001b[0m\u001b[0mself\u001b[0m\u001b[0;34m.\u001b[0m\u001b[0mf\u001b[0m\u001b[0;34m,\u001b[0m \u001b[0;34m**\u001b[0m\u001b[0mself\u001b[0m\u001b[0;34m.\u001b[0m\u001b[0moptions\u001b[0m\u001b[0;34m)\u001b[0m  \u001b[0;31m# type: ignore[call-arg]\u001b[0m\u001b[0;34m\u001b[0m\u001b[0;34m\u001b[0m\u001b[0m\n\u001b[0m\u001b[1;32m   1051\u001b[0m \u001b[0;34m\u001b[0m\u001b[0m\n\u001b[1;32m   1052\u001b[0m     \u001b[0;32mdef\u001b[0m \u001b[0m_failover_to_python\u001b[0m\u001b[0;34m(\u001b[0m\u001b[0mself\u001b[0m\u001b[0;34m)\u001b[0m\u001b[0;34m:\u001b[0m\u001b[0;34m\u001b[0m\u001b[0;34m\u001b[0m\u001b[0m\n",
      "\u001b[0;32m~/anaconda3/lib/python3.8/site-packages/pandas/io/parsers.py\u001b[0m in \u001b[0;36m__init__\u001b[0;34m(self, src, **kwds)\u001b[0m\n\u001b[1;32m   1865\u001b[0m \u001b[0;34m\u001b[0m\u001b[0m\n\u001b[1;32m   1866\u001b[0m         \u001b[0;31m# open handles\u001b[0m\u001b[0;34m\u001b[0m\u001b[0;34m\u001b[0m\u001b[0;34m\u001b[0m\u001b[0m\n\u001b[0;32m-> 1867\u001b[0;31m         \u001b[0mself\u001b[0m\u001b[0;34m.\u001b[0m\u001b[0m_open_handles\u001b[0m\u001b[0;34m(\u001b[0m\u001b[0msrc\u001b[0m\u001b[0;34m,\u001b[0m \u001b[0mkwds\u001b[0m\u001b[0;34m)\u001b[0m\u001b[0;34m\u001b[0m\u001b[0;34m\u001b[0m\u001b[0m\n\u001b[0m\u001b[1;32m   1868\u001b[0m         \u001b[0;32massert\u001b[0m \u001b[0mself\u001b[0m\u001b[0;34m.\u001b[0m\u001b[0mhandles\u001b[0m \u001b[0;32mis\u001b[0m \u001b[0;32mnot\u001b[0m \u001b[0;32mNone\u001b[0m\u001b[0;34m\u001b[0m\u001b[0;34m\u001b[0m\u001b[0m\n\u001b[1;32m   1869\u001b[0m         \u001b[0;32mfor\u001b[0m \u001b[0mkey\u001b[0m \u001b[0;32min\u001b[0m \u001b[0;34m(\u001b[0m\u001b[0;34m\"storage_options\"\u001b[0m\u001b[0;34m,\u001b[0m \u001b[0;34m\"encoding\"\u001b[0m\u001b[0;34m,\u001b[0m \u001b[0;34m\"memory_map\"\u001b[0m\u001b[0;34m,\u001b[0m \u001b[0;34m\"compression\"\u001b[0m\u001b[0;34m)\u001b[0m\u001b[0;34m:\u001b[0m\u001b[0;34m\u001b[0m\u001b[0;34m\u001b[0m\u001b[0m\n",
      "\u001b[0;32m~/anaconda3/lib/python3.8/site-packages/pandas/io/parsers.py\u001b[0m in \u001b[0;36m_open_handles\u001b[0;34m(self, src, kwds)\u001b[0m\n\u001b[1;32m   1360\u001b[0m         \u001b[0mLet\u001b[0m \u001b[0mthe\u001b[0m \u001b[0mreaders\u001b[0m \u001b[0mopen\u001b[0m \u001b[0mIOHanldes\u001b[0m \u001b[0mafter\u001b[0m \u001b[0mthey\u001b[0m \u001b[0mare\u001b[0m \u001b[0mdone\u001b[0m \u001b[0;32mwith\u001b[0m \u001b[0mtheir\u001b[0m \u001b[0mpotential\u001b[0m \u001b[0mraises\u001b[0m\u001b[0;34m.\u001b[0m\u001b[0;34m\u001b[0m\u001b[0;34m\u001b[0m\u001b[0m\n\u001b[1;32m   1361\u001b[0m         \"\"\"\n\u001b[0;32m-> 1362\u001b[0;31m         self.handles = get_handle(\n\u001b[0m\u001b[1;32m   1363\u001b[0m             \u001b[0msrc\u001b[0m\u001b[0;34m,\u001b[0m\u001b[0;34m\u001b[0m\u001b[0;34m\u001b[0m\u001b[0m\n\u001b[1;32m   1364\u001b[0m             \u001b[0;34m\"r\"\u001b[0m\u001b[0;34m,\u001b[0m\u001b[0;34m\u001b[0m\u001b[0;34m\u001b[0m\u001b[0m\n",
      "\u001b[0;32m~/anaconda3/lib/python3.8/site-packages/pandas/io/common.py\u001b[0m in \u001b[0;36mget_handle\u001b[0;34m(path_or_buf, mode, encoding, compression, memory_map, is_text, errors, storage_options)\u001b[0m\n\u001b[1;32m    640\u001b[0m                 \u001b[0merrors\u001b[0m \u001b[0;34m=\u001b[0m \u001b[0;34m\"replace\"\u001b[0m\u001b[0;34m\u001b[0m\u001b[0;34m\u001b[0m\u001b[0m\n\u001b[1;32m    641\u001b[0m             \u001b[0;31m# Encoding\u001b[0m\u001b[0;34m\u001b[0m\u001b[0;34m\u001b[0m\u001b[0;34m\u001b[0m\u001b[0m\n\u001b[0;32m--> 642\u001b[0;31m             handle = open(\n\u001b[0m\u001b[1;32m    643\u001b[0m                 \u001b[0mhandle\u001b[0m\u001b[0;34m,\u001b[0m\u001b[0;34m\u001b[0m\u001b[0;34m\u001b[0m\u001b[0m\n\u001b[1;32m    644\u001b[0m                 \u001b[0mioargs\u001b[0m\u001b[0;34m.\u001b[0m\u001b[0mmode\u001b[0m\u001b[0;34m,\u001b[0m\u001b[0;34m\u001b[0m\u001b[0;34m\u001b[0m\u001b[0m\n",
      "\u001b[0;31mFileNotFoundError\u001b[0m: [Errno 2] No such file or directory: 'titanic.csv'"
     ]
    }
   ],
   "source": [
    "df_titanic = pd.read_csv('titanic.csv')\n",
    "df_titanic.shape"
   ]
  },
  {
   "cell_type": "code",
   "execution_count": null,
   "id": "7df1b73b",
   "metadata": {},
   "outputs": [],
   "source": [
    "df_titanic.head()"
   ]
  },
  {
   "cell_type": "markdown",
   "id": "b2bf46d4",
   "metadata": {},
   "source": [
    "- **Passengerid**: ID do passageiro do navio (código primário).\n",
    "- **Survived**: Se sobreviveu ao naufrágio estará como 1 e caso esteja com 0 (zero) não sobreviveu.\n",
    "- **Pclass**: Tipo de classe de passagem (Do 1 ao 3), sendo 1 a melhor classe e 3 a pior classe.\n",
    "- **Name**: Nome do passageiro\n",
    "- **Sex**: Gênero do passageiro, sendo masculino e feminino.\n",
    "- **Age**: Idade do passageiro na data da ocorrência do naufrágio.\n",
    "- **SibSp**: Número de irmãos / cônjuges a bordo.\n",
    "- **Parch**: Número de pais / filhos a bordo.\n",
    "- **Ticket**: Código do ticket.\n",
    "- **Fare**: Valor da passagem.\n",
    "- **Cabin**: Código de identificação da Cabine.\n",
    "- **Embarked**: Local onde o passageiro embarcou no navio."
   ]
  },
  {
   "cell_type": "markdown",
   "id": "837cb876",
   "metadata": {},
   "source": [
    "### Verificando os tipos de dados contidos no Dataset"
   ]
  },
  {
   "cell_type": "code",
   "execution_count": null,
   "id": "b17f1ebf",
   "metadata": {},
   "outputs": [],
   "source": [
    "df_titanic.dtypes"
   ]
  },
  {
   "cell_type": "code",
   "execution_count": null,
   "id": "de90aff6",
   "metadata": {},
   "outputs": [],
   "source": [
    "df_titanic.describe().T"
   ]
  },
  {
   "cell_type": "markdown",
   "id": "b6bcdb0a",
   "metadata": {},
   "source": [
    "- A variável idade tem como valor máximo 80. Contudo o 3º quartil mostra a idade de 39 anos, o que indica que há outliers\n",
    "- Quanto a coluna Fare (valor da passagem), temos outliers distorcendo a distribuição dos valores desta variável, puxando a média para 4428.39 sendo que a mediana está em 20.08"
   ]
  },
  {
   "cell_type": "markdown",
   "id": "c9759faf",
   "metadata": {},
   "source": [
    "### Explorando os dados categóricos e numéricos"
   ]
  },
  {
   "cell_type": "code",
   "execution_count": null,
   "id": "15ccabee",
   "metadata": {},
   "outputs": [],
   "source": [
    "cat_col = [var for var in df_titanic.columns if df_titanic[var].dtype == 'O']\n",
    "df_titanic.loc[:,cat_col].head()"
   ]
  },
  {
   "cell_type": "code",
   "execution_count": null,
   "id": "f945b5ea",
   "metadata": {},
   "outputs": [],
   "source": [
    "num_col = [var for var in df_titanic.columns if df_titanic[var].dtype != 'O']\n",
    "df_titanic.loc[:,num_col].head()"
   ]
  },
  {
   "cell_type": "markdown",
   "id": "998b3463",
   "metadata": {},
   "source": [
    "- 3 variáveis discretas: Pclass, SibSp e Parch\n",
    "- 2 variáveis contínuas: Fare e Age\n",
    "- 1 variável Id: PassengerId (chave primária).\n",
    "- 1 binário: Survived (booleano)."
   ]
  },
  {
   "cell_type": "markdown",
   "id": "1689a89a",
   "metadata": {},
   "source": [
    "- Percentual de dados faltantes na base de treino"
   ]
  },
  {
   "cell_type": "code",
   "execution_count": null,
   "id": "2dbe1b99",
   "metadata": {},
   "outputs": [],
   "source": [
    "round(df_titanic.isnull().mean()*100, 2)"
   ]
  },
  {
   "cell_type": "markdown",
   "id": "16fdc69f",
   "metadata": {},
   "source": [
    "- Podemos observar que há 3 colunas com dados faltantes: Sex, Age e Cabin"
   ]
  },
  {
   "cell_type": "markdown",
   "id": "f034d967",
   "metadata": {},
   "source": [
    "## Vamos explorar o dataset para analisar o que é possível fazer para preencher os dados faltantes"
   ]
  },
  {
   "cell_type": "markdown",
   "id": "ae628688",
   "metadata": {},
   "source": [
    "- Total de Passageiros"
   ]
  },
  {
   "cell_type": "code",
   "execution_count": null,
   "id": "e38e51df",
   "metadata": {},
   "outputs": [],
   "source": [
    "df_titanic.shape[0]"
   ]
  },
  {
   "cell_type": "markdown",
   "id": "15dfce94",
   "metadata": {},
   "source": [
    "- Total de Passageiros com todos os registros preenchidos (linhas)"
   ]
  },
  {
   "cell_type": "code",
   "execution_count": null,
   "id": "1b146247",
   "metadata": {},
   "outputs": [],
   "source": [
    "df_titanic.dropna().shape[0]"
   ]
  },
  {
   "cell_type": "markdown",
   "id": "3162a8f3",
   "metadata": {},
   "source": [
    "- Percentual de dados com 100% do preenchimento dos dados"
   ]
  },
  {
   "cell_type": "code",
   "execution_count": null,
   "id": "ceb41129",
   "metadata": {},
   "outputs": [],
   "source": [
    "round(df_titanic.dropna().shape[0] / len(df_titanic)*100, 2)"
   ]
  },
  {
   "cell_type": "markdown",
   "id": "612294a0",
   "metadata": {},
   "source": [
    "- Selecionando os registros com dados ausentes para a coluna Pclass"
   ]
  },
  {
   "cell_type": "code",
   "execution_count": null,
   "id": "fe2d09b7",
   "metadata": {},
   "outputs": [],
   "source": [
    "df_titanic[df_titanic['Pclass'].isnull()].shape[0]"
   ]
  },
  {
   "cell_type": "markdown",
   "id": "1ac77348",
   "metadata": {},
   "source": [
    "- Não temos nenhum registro faltante para a coluna Pclass"
   ]
  },
  {
   "cell_type": "markdown",
   "id": "5970ca4e",
   "metadata": {},
   "source": [
    "- É interessante conseguir extrair os títulos dos nomes para verificar se temos realmente correlação entre as variáveis"
   ]
  },
  {
   "cell_type": "code",
   "execution_count": null,
   "id": "338ff0aa",
   "metadata": {},
   "outputs": [],
   "source": [
    "def extrai_titulo(df):\n",
    "    df['Título'] = df['Name'].apply(lambda x: x.split(',')[1].split('.')[0].strip().lower())\n",
    "\n",
    "extrai_titulo(df_titanic)"
   ]
  },
  {
   "cell_type": "markdown",
   "id": "afc31264",
   "metadata": {},
   "source": [
    "- Checando se a coluna Título foi criada corretamente"
   ]
  },
  {
   "cell_type": "code",
   "execution_count": null,
   "id": "0d7fab67",
   "metadata": {},
   "outputs": [],
   "source": [
    "df_titanic.head()"
   ]
  },
  {
   "cell_type": "markdown",
   "id": "5712cbee",
   "metadata": {},
   "source": [
    "- Checando se há algum registro sem título"
   ]
  },
  {
   "cell_type": "code",
   "execution_count": null,
   "id": "26c1d25f",
   "metadata": {},
   "outputs": [],
   "source": [
    "df_titanic[df_titanic['Título'].isnull()].shape[0]"
   ]
  },
  {
   "cell_type": "code",
   "execution_count": null,
   "id": "f7c97e93",
   "metadata": {},
   "outputs": [],
   "source": [
    "fig = df_titanic['Título'].value_counts().plot.barh(figsize=(11,6))\n",
    "fig.set_title('Abreviações dos Títulos dos Passageiros')\n",
    "fig.set_ylabel('Nome dos Títulos')\n",
    "fig.set_xlabel('Quantidade por Título')\n",
    "\n",
    "df_titanic['Título'].value_counts()"
   ]
  },
  {
   "cell_type": "markdown",
   "id": "62368eb3",
   "metadata": {},
   "source": [
    "- Conforme o gráfico acima, temos vários títulos"
   ]
  },
  {
   "cell_type": "markdown",
   "id": "2a1465ad",
   "metadata": {},
   "source": [
    "- Vamos investigar os outliers como já identificamos acima nas variáveis Age e Fare. Para isso, vamos utilizar o boxplot."
   ]
  },
  {
   "cell_type": "code",
   "execution_count": null,
   "id": "0e177c28",
   "metadata": {},
   "outputs": [],
   "source": [
    "df_titanic['Age'].plot.box(vert=False, figsize=(15,2))"
   ]
  },
  {
   "cell_type": "code",
   "execution_count": null,
   "id": "8e8b1fe6",
   "metadata": {},
   "outputs": [],
   "source": [
    "df_titanic['Fare'].plot.box(vert=False, figsize=(15,2))"
   ]
  },
  {
   "cell_type": "markdown",
   "id": "4a609422",
   "metadata": {},
   "source": [
    "- Como já esperado, diversos Outliers"
   ]
  },
  {
   "cell_type": "markdown",
   "id": "999a1f05",
   "metadata": {},
   "source": [
    "- Para a coluna Fare, a quantidade de outiliers é tão grande que não conseguimos visualizar o box. Portanto, vamos filtrar por Fare menor que 500."
   ]
  },
  {
   "cell_type": "code",
   "execution_count": null,
   "id": "0b7edd53",
   "metadata": {},
   "outputs": [],
   "source": [
    "df_titanic['Fare'].loc[df_titanic['Fare'] < 500].plot.box(vert=False, figsize=(15,2))"
   ]
  },
  {
   "cell_type": "markdown",
   "id": "c1b48f47",
   "metadata": {},
   "source": [
    "- Analisando a distribuição das variáveis para descobrir se elas são gaussianas (normais) ou distorcidas (assimétricas)"
   ]
  },
  {
   "cell_type": "code",
   "execution_count": null,
   "id": "dce96bd4",
   "metadata": {},
   "outputs": [],
   "source": [
    "df_titanic['Age'].hist(bins = 25, figsize=(12,6))"
   ]
  },
  {
   "cell_type": "code",
   "execution_count": null,
   "id": "14dafccf",
   "metadata": {},
   "outputs": [],
   "source": [
    "df_titanic['Fare'].loc[df_titanic['Fare'] < 500].hist(bins = 25, figsize=(12,6))"
   ]
  },
  {
   "cell_type": "markdown",
   "id": "a12b6a39",
   "metadata": {},
   "source": [
    "- Vamos ver a distribuição de pessoas por tipo de classe de passagem"
   ]
  },
  {
   "cell_type": "code",
   "execution_count": null,
   "id": "fa3dc50e",
   "metadata": {},
   "outputs": [],
   "source": [
    "df_titanic['Pclass'].value_counts().plot.barh(figsize=(11,6))"
   ]
  },
  {
   "cell_type": "markdown",
   "id": "c0a47ae4",
   "metadata": {},
   "source": [
    "- Vamos identificar qual o nosso *threshold* de valor da passagem pago apenas pelos passageiros da Primeira Classe"
   ]
  },
  {
   "cell_type": "code",
   "execution_count": null,
   "id": "8f70ad9d",
   "metadata": {},
   "outputs": [],
   "source": [
    "df_titanic.loc[df_titanic['Fare'] > 10000].groupby(['Pclass','Fare'])[['PassengerId']].count()"
   ]
  },
  {
   "cell_type": "markdown",
   "id": "1b24edc7",
   "metadata": {},
   "source": [
    "- Podemos perceber que o valor mais alto pago na terceira classe foi de 34375. Ou seja, todo mundo que pagou um valor acima desse está na primeira classe."
   ]
  },
  {
   "cell_type": "markdown",
   "id": "78ba3599",
   "metadata": {},
   "source": [
    "- Vamos identificar agora a distribuição das classes das pessoas pelos seus títulos"
   ]
  },
  {
   "cell_type": "code",
   "execution_count": null,
   "id": "b057b984",
   "metadata": {},
   "outputs": [],
   "source": [
    "df_titanic.groupby(['Título','Pclass']).count()"
   ]
  },
  {
   "cell_type": "markdown",
   "id": "549a3a10",
   "metadata": {},
   "source": [
    "- Todos que estão na terceira classe possuem o título de ms, mrs, mr e master. Todos os outros estão na segunda ou primeira classe."
   ]
  },
  {
   "cell_type": "code",
   "execution_count": null,
   "id": "68769440",
   "metadata": {},
   "outputs": [],
   "source": [
    "df_titanic.loc[df_titanic['Fare'] > 50000]['Pclass'].value_counts()"
   ]
  },
  {
   "cell_type": "markdown",
   "id": "05db7b16",
   "metadata": {},
   "source": [
    "- Vamos encontrar a média de preço para os passageiros da primeira, segunda e terceira classe (exlcuindo os Outliers para não subir a média)"
   ]
  },
  {
   "cell_type": "markdown",
   "id": "2fd38ac8",
   "metadata": {},
   "source": [
    "- 1ª classe"
   ]
  },
  {
   "cell_type": "code",
   "execution_count": null,
   "id": "d6fc8139",
   "metadata": {},
   "outputs": [],
   "source": [
    "df_titanic['Fare'].loc[(df_titanic['Fare'] < 500) & (df_titanic['Pclass'] == 1)].plot.box(vert=False, figsize=(15,2))"
   ]
  },
  {
   "cell_type": "code",
   "execution_count": null,
   "id": "9b80abeb",
   "metadata": {},
   "outputs": [],
   "source": [
    "df_titanic['Fare'].loc[(df_titanic['Fare'] < 200) & (df_titanic['Pclass'] == 1)].mean()"
   ]
  },
  {
   "cell_type": "markdown",
   "id": "83e4f6e1",
   "metadata": {},
   "source": [
    "- 2ª classe"
   ]
  },
  {
   "cell_type": "code",
   "execution_count": null,
   "id": "368e71a2",
   "metadata": {},
   "outputs": [],
   "source": [
    "df_titanic['Fare'].loc[(df_titanic['Fare'] < 500) & (df_titanic['Pclass'] == 2)].plot.box(vert=False, figsize=(15,2))"
   ]
  },
  {
   "cell_type": "code",
   "execution_count": null,
   "id": "ca94404b",
   "metadata": {},
   "outputs": [],
   "source": [
    "df_titanic['Fare'].loc[(df_titanic['Fare'] < 60) & (df_titanic['Pclass'] == 2)].mean()"
   ]
  },
  {
   "cell_type": "markdown",
   "id": "0a655466",
   "metadata": {},
   "source": [
    "- 3ª classe"
   ]
  },
  {
   "cell_type": "code",
   "execution_count": null,
   "id": "ac1dcf2b",
   "metadata": {},
   "outputs": [],
   "source": [
    "df_titanic['Fare'].loc[(df_titanic['Fare'] < 500) & (df_titanic['Pclass'] == 3)].plot.box(vert=False, figsize=(15,2))"
   ]
  },
  {
   "cell_type": "code",
   "execution_count": null,
   "id": "b698ca4b",
   "metadata": {},
   "outputs": [],
   "source": [
    "df_titanic['Fare'].loc[(df_titanic['Fare'] < 30) & (df_titanic['Pclass'] == 3)].mean()"
   ]
  },
  {
   "cell_type": "markdown",
   "id": "5c65c8c4",
   "metadata": {},
   "source": [
    "### Tratando dados ausentes da coluna Sex"
   ]
  },
  {
   "cell_type": "markdown",
   "id": "62d88ffe",
   "metadata": {},
   "source": [
    "- Como poderíamos fazer isso?"
   ]
  },
  {
   "cell_type": "markdown",
   "id": "454d4585",
   "metadata": {},
   "source": [
    "- Uma alternativa é identicar seu gênero de acordo com o título do passageiro"
   ]
  },
  {
   "cell_type": "code",
   "execution_count": null,
   "id": "306f3c14",
   "metadata": {},
   "outputs": [],
   "source": [
    "df_titanic['Título'].unique()"
   ]
  },
  {
   "cell_type": "markdown",
   "id": "7de76f5c",
   "metadata": {},
   "source": [
    "- Verificando se há algum passageiro que não possui título"
   ]
  },
  {
   "cell_type": "code",
   "execution_count": null,
   "id": "e5ecc097",
   "metadata": {},
   "outputs": [],
   "source": [
    "df_titanic[df_titanic['Título'].isnull()].shape[0]"
   ]
  },
  {
   "cell_type": "markdown",
   "id": "5a5575a9",
   "metadata": {},
   "source": [
    "- Listando títulos masculinos"
   ]
  },
  {
   "cell_type": "code",
   "execution_count": null,
   "id": "9a4e3de6",
   "metadata": {},
   "outputs": [],
   "source": [
    "list_male = ['mr', 'master', 'don', 'rev', 'dr', 'major', 'sir', 'col', 'capt', 'jonkheer']"
   ]
  },
  {
   "cell_type": "markdown",
   "id": "28596565",
   "metadata": {},
   "source": [
    "- Filtrando resultado que não possuem definição na coluna Sex"
   ]
  },
  {
   "cell_type": "code",
   "execution_count": null,
   "id": "d8b03702",
   "metadata": {},
   "outputs": [],
   "source": [
    "df_aux = df_titanic[df_titanic['Sex'].isnull()]\n",
    "df_aux"
   ]
  },
  {
   "cell_type": "markdown",
   "id": "bd1b3c59",
   "metadata": {},
   "source": [
    "- Atribuindo o gênero do passageiro de acordo com o seu título"
   ]
  },
  {
   "cell_type": "code",
   "execution_count": null,
   "id": "e0e36b5a",
   "metadata": {},
   "outputs": [],
   "source": [
    "df_aux['Sex'] = df_aux['Título'].apply(lambda x: 'male' if x in list_male else 'female')\n",
    "df_aux"
   ]
  },
  {
   "cell_type": "markdown",
   "id": "eac70c61",
   "metadata": {},
   "source": [
    "- Combinando os dois dataframes"
   ]
  },
  {
   "cell_type": "code",
   "execution_count": null,
   "id": "5dc762cc",
   "metadata": {},
   "outputs": [],
   "source": [
    "df_titanic = df_titanic.combine_first(df_aux)"
   ]
  },
  {
   "cell_type": "code",
   "execution_count": null,
   "id": "930e75bb",
   "metadata": {},
   "outputs": [],
   "source": [
    "df_titanic[df_titanic['Sex'].isnull()].shape[0]"
   ]
  },
  {
   "cell_type": "markdown",
   "id": "8f92b502",
   "metadata": {},
   "source": [
    "- Podemos observar que todos os passageiros possui o registro de gênero"
   ]
  },
  {
   "cell_type": "markdown",
   "id": "18a73107",
   "metadata": {},
   "source": [
    "### Tratando a coluna Age (Idade) para valores faltantes"
   ]
  },
  {
   "cell_type": "code",
   "execution_count": null,
   "id": "cdda0017",
   "metadata": {},
   "outputs": [],
   "source": [
    "df_titanic[df_titanic[\"Age\"].isnull()].shape[0]"
   ]
  },
  {
   "cell_type": "markdown",
   "id": "5eb1126d",
   "metadata": {},
   "source": [
    "- Temos 263 passageiros sem idade"
   ]
  },
  {
   "cell_type": "markdown",
   "id": "7ec686cb",
   "metadata": {},
   "source": [
    "- Podemos inserir as faixas de idades conforme classe e gênero"
   ]
  },
  {
   "cell_type": "code",
   "execution_count": null,
   "id": "163660d0",
   "metadata": {},
   "outputs": [],
   "source": [
    "df_titanic.groupby(['Pclass','Sex'])[['Age']].mean()"
   ]
  },
  {
   "cell_type": "markdown",
   "id": "70267ce3",
   "metadata": {},
   "source": [
    "- Ou podemos tratar a idade por classe e título. Irá dar mais trabalho, mas ficará mais próximo da realidade."
   ]
  },
  {
   "cell_type": "code",
   "execution_count": null,
   "id": "f37b8256",
   "metadata": {},
   "outputs": [],
   "source": [
    "df_aux = df_titanic.groupby(['Pclass','Título'], as_index=False)[['Age']].mean()\n",
    "df_aux"
   ]
  },
  {
   "cell_type": "markdown",
   "id": "bd4b86f1",
   "metadata": {},
   "source": [
    "- Como pode ser visto, apena ms da terceira classe não possui idade. Vamos assumir então para essa situação o valor de ms da segunda classe."
   ]
  },
  {
   "cell_type": "code",
   "execution_count": null,
   "id": "55d38823",
   "metadata": {},
   "outputs": [],
   "source": [
    "df_aux['Age'].loc[27] = df_aux['Age'].loc[21]\n",
    "df_aux"
   ]
  },
  {
   "cell_type": "code",
   "execution_count": null,
   "id": "603fd943",
   "metadata": {},
   "outputs": [],
   "source": [
    "df_titanic[df_titanic['Age'].isnull()].shape[0]"
   ]
  },
  {
   "cell_type": "markdown",
   "id": "966d3cd3",
   "metadata": {},
   "source": [
    "- Podemos ver que há 263 registros sem Age"
   ]
  },
  {
   "cell_type": "markdown",
   "id": "3648c0ba",
   "metadata": {},
   "source": [
    "- Vamos utilizar uma função que retorna a média de idade baseada na média de idade de classe e título."
   ]
  },
  {
   "cell_type": "code",
   "execution_count": null,
   "id": "de6d8903",
   "metadata": {},
   "outputs": [],
   "source": [
    "def impute_age(age_pclass_titulo):\n",
    "    age = age_pclass_titulo[0]\n",
    "    pclass = age_pclass_titulo[1]\n",
    "    titulo = age_pclass_titulo[2]\n",
    "    if pd.isnull(age):\n",
    "        return df_aux['Age'].loc[(df_aux['Pclass']==pclass) & (df_aux['Título']==titulo)].values[0]\n",
    "    else:\n",
    "        return age"
   ]
  },
  {
   "cell_type": "code",
   "execution_count": null,
   "id": "cb4de415",
   "metadata": {},
   "outputs": [],
   "source": [
    "df_titanic['Age'] = df_titanic[['Age','Pclass','Título']].apply(impute_age, axis = 1)"
   ]
  },
  {
   "cell_type": "code",
   "execution_count": null,
   "id": "8354a7d1",
   "metadata": {},
   "outputs": [],
   "source": [
    "df_titanic[df_titanic['Age'].isnull()].shape[0]"
   ]
  },
  {
   "cell_type": "markdown",
   "id": "7b2c1c37",
   "metadata": {},
   "source": [
    "### Tratando a coluna Cabin"
   ]
  },
  {
   "cell_type": "markdown",
   "id": "072d0f51",
   "metadata": {},
   "source": [
    "- Agora só temos a coluna Cabin com dados faltantes que possui ~33% dos dados"
   ]
  },
  {
   "cell_type": "code",
   "execution_count": null,
   "id": "d1fa8a5b",
   "metadata": {},
   "outputs": [],
   "source": [
    "round(df_titanic.isnull().mean()*100, 2)"
   ]
  },
  {
   "cell_type": "code",
   "execution_count": null,
   "id": "c5f62851",
   "metadata": {},
   "outputs": [],
   "source": [
    "df_titanic.head(10)"
   ]
  },
  {
   "cell_type": "markdown",
   "id": "89e7f163",
   "metadata": {},
   "source": [
    "- Vamos verificar como estão distribuídas as cabines por classe, selecionando apenas a letra inicial de cada observação"
   ]
  },
  {
   "cell_type": "code",
   "execution_count": null,
   "id": "20e67407",
   "metadata": {},
   "outputs": [],
   "source": [
    "df_titanic['Ale_cabin'] = df_titanic['Cabin'].str[0].str.lower().str.strip()"
   ]
  },
  {
   "cell_type": "code",
   "execution_count": null,
   "id": "44016d35",
   "metadata": {},
   "outputs": [],
   "source": [
    "df_titanic.groupby('Pclass')['Ale_cabin'].value_counts()"
   ]
  },
  {
   "cell_type": "markdown",
   "id": "e059256f",
   "metadata": {},
   "source": [
    "- Temos a seguinte distribuição das cabines por classe:\n",
    "    - Classe 1 = a, b, c, d, e, t\n",
    "    - Classe 2 = d, e, f\n",
    "    - Classe 3 = e, g, f"
   ]
  },
  {
   "cell_type": "markdown",
   "id": "122d224d",
   "metadata": {},
   "source": [
    "- Podemos remover a coluna Ale_cabin pois ja extraimos o que precisamos"
   ]
  },
  {
   "cell_type": "code",
   "execution_count": null,
   "id": "310777d9",
   "metadata": {},
   "outputs": [],
   "source": [
    "del df_titanic['Ale_cabin']"
   ]
  },
  {
   "cell_type": "markdown",
   "id": "fecf3219",
   "metadata": {},
   "source": [
    "- Vamos criar um dicionário onde a chave é a classe e os valores são as possíveis letras das cabines"
   ]
  },
  {
   "cell_type": "code",
   "execution_count": null,
   "id": "78e0a322",
   "metadata": {},
   "outputs": [],
   "source": [
    "dict_classe = {1:['a', 'b', 'c', 'd', 'e', 't'],\n",
    "               2:['d', 'e', 'f'],\n",
    "               3:['e', 'g', 'h']}"
   ]
  },
  {
   "cell_type": "markdown",
   "id": "c50d379d",
   "metadata": {},
   "source": [
    "- Filtrando registros de Cabin nula"
   ]
  },
  {
   "cell_type": "code",
   "execution_count": null,
   "id": "4eb16fcd",
   "metadata": {},
   "outputs": [],
   "source": [
    "df_aux = df_titanic[df_titanic['Cabin'].isnull()]\n",
    "df_aux"
   ]
  },
  {
   "cell_type": "markdown",
   "id": "088cab4d",
   "metadata": {},
   "source": [
    "- Vamos imputar os dados com a função choice do numpy"
   ]
  },
  {
   "cell_type": "code",
   "execution_count": null,
   "id": "2ff68458",
   "metadata": {},
   "outputs": [],
   "source": [
    "df_aux['Cabin'] = df_titanic['Pclass'].apply(lambda x: np.random.choice(dict_classe[x], size=1)[0])"
   ]
  },
  {
   "cell_type": "code",
   "execution_count": null,
   "id": "d3b07c99",
   "metadata": {},
   "outputs": [],
   "source": [
    "df_aux.head(5)"
   ]
  },
  {
   "cell_type": "markdown",
   "id": "e386a27f",
   "metadata": {},
   "source": [
    "- Combinando os dois dataframes"
   ]
  },
  {
   "cell_type": "code",
   "execution_count": null,
   "id": "d1944474",
   "metadata": {},
   "outputs": [],
   "source": [
    "df_titanic = df_titanic.combine_first(df_aux)"
   ]
  },
  {
   "cell_type": "code",
   "execution_count": null,
   "id": "9b78886e",
   "metadata": {},
   "outputs": [],
   "source": [
    "df_titanic[df_titanic['Cabin'].isnull()].shape[0]"
   ]
  },
  {
   "cell_type": "markdown",
   "id": "23f7808d",
   "metadata": {},
   "source": [
    "- Podemos observar que todos os registros de Cabin possuem pelo menos um letra associada"
   ]
  },
  {
   "cell_type": "code",
   "execution_count": null,
   "id": "733b848a",
   "metadata": {},
   "outputs": [],
   "source": [
    "round(df_titanic.isnull().mean()*100, 2)"
   ]
  },
  {
   "cell_type": "markdown",
   "id": "fa5a37d6",
   "metadata": {},
   "source": [
    "- E com isso, finalizamos nossa atividade de limpeza dos dados. Todas as colunas possuem dados."
   ]
  },
  {
   "cell_type": "markdown",
   "id": "851ce9e8",
   "metadata": {},
   "source": [
    "- Vamos explorar visualmente nossos dados. Vamos visualizar as pessoas que sobreviveram baseado na classe e gênero"
   ]
  },
  {
   "cell_type": "markdown",
   "id": "42ab169b",
   "metadata": {},
   "source": [
    "- Pessoas que sobreviveram"
   ]
  },
  {
   "cell_type": "code",
   "execution_count": null,
   "id": "798025d4",
   "metadata": {},
   "outputs": [],
   "source": [
    "survived = df_titanic.loc[df_titanic['Survived'] == 1]\n",
    "percentual = pd.crosstab(survived.Sex,\n",
    "                         survived.Pclass,\n",
    "                         aggfunc = 'count',\n",
    "                         values = survived.Survived)\n",
    "\n",
    "percentual.T.plot.bar(rot=0)"
   ]
  },
  {
   "cell_type": "markdown",
   "id": "f7f1cae4",
   "metadata": {},
   "source": [
    "- Pessoas que não sobreviveram"
   ]
  },
  {
   "cell_type": "code",
   "execution_count": null,
   "id": "7944e8d4",
   "metadata": {},
   "outputs": [],
   "source": [
    "not_survived = df_titanic.loc[df_titanic['Survived'] == 0]\n",
    "percentual = pd.crosstab(not_survived.Sex,\n",
    "                         not_survived.Pclass,\n",
    "                         aggfunc = 'count',\n",
    "                         values = not_survived.Survived)\n",
    "\n",
    "percentual.T.plot.bar(rot=0)"
   ]
  },
  {
   "cell_type": "markdown",
   "id": "022bd2d1",
   "metadata": {},
   "source": [
    "- Conforme nosso gráfico acima, em todas as classes o percentual de mulheres sobrevivente é superior aos homens e fica mais expressivo quando olhamos para a primeria e segunda classe.\n"
   ]
  },
  {
   "cell_type": "markdown",
   "id": "c3505c3b",
   "metadata": {},
   "source": [
    "- Média de idade dos que sobreviveram e dos que morreram"
   ]
  },
  {
   "cell_type": "code",
   "execution_count": null,
   "id": "b99b6490",
   "metadata": {},
   "outputs": [],
   "source": [
    "df_titanic.groupby('Survived')[['Age']].mean()"
   ]
  }
 ],
 "metadata": {
  "hide_input": false,
  "kernelspec": {
   "display_name": "Python 3",
   "language": "python",
   "name": "python3"
  },
  "language_info": {
   "codemirror_mode": {
    "name": "ipython",
    "version": 3
   },
   "file_extension": ".py",
   "mimetype": "text/x-python",
   "name": "python",
   "nbconvert_exporter": "python",
   "pygments_lexer": "ipython3",
   "version": "3.8.8"
  }
 },
 "nbformat": 4,
 "nbformat_minor": 5
}
